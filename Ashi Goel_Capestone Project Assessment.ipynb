{
 "cells": [
  {
   "cell_type": "code",
   "execution_count": 16,
   "id": "233670b5",
   "metadata": {},
   "outputs": [],
   "source": [
    "#Ignoring Warnings\n",
    "import warnings\n",
    "warnings.filterwarnings(\"ignore\")"
   ]
  },
  {
   "cell_type": "code",
   "execution_count": 17,
   "id": "bc081141",
   "metadata": {},
   "outputs": [],
   "source": [
    "#Importing required libraries\n",
    "import pandas as pd\n",
    "import numpy as np\n",
    "import seaborn as sns\n",
    "import matplotlib.pyplot as plt"
   ]
  },
  {
   "cell_type": "code",
   "execution_count": 18,
   "id": "f309bb49",
   "metadata": {},
   "outputs": [],
   "source": [
    "#Importing the train dataset\n",
    "train_data = pd.read_csv(\"C:/Users/ashi.goel/Downloads/Capestone Project/train_dK8Auve.csv\")"
   ]
  },
  {
   "cell_type": "code",
   "execution_count": 20,
   "id": "82573dcf",
   "metadata": {},
   "outputs": [],
   "source": [
    "#Importing test dataset\n",
    "test_data = pd.read_csv(\"C:/Users/ashi.goel/Downloads/Capestone Project/test_UyrvqPb.csv\")"
   ]
  },
  {
   "cell_type": "code",
   "execution_count": 19,
   "id": "fbe5ccf7",
   "metadata": {
    "scrolled": true
   },
   "outputs": [
    {
     "data": {
      "text/html": [
       "<div>\n",
       "<style scoped>\n",
       "    .dataframe tbody tr th:only-of-type {\n",
       "        vertical-align: middle;\n",
       "    }\n",
       "\n",
       "    .dataframe tbody tr th {\n",
       "        vertical-align: top;\n",
       "    }\n",
       "\n",
       "    .dataframe thead th {\n",
       "        text-align: right;\n",
       "    }\n",
       "</style>\n",
       "<table border=\"1\" class=\"dataframe\">\n",
       "  <thead>\n",
       "    <tr style=\"text-align: right;\">\n",
       "      <th></th>\n",
       "      <th>ID</th>\n",
       "      <th>Office_PIN</th>\n",
       "      <th>Application_Receipt_Date</th>\n",
       "      <th>Applicant_City_PIN</th>\n",
       "      <th>Applicant_Gender</th>\n",
       "      <th>Applicant_BirthDate</th>\n",
       "      <th>Applicant_Marital_Status</th>\n",
       "      <th>Applicant_Occupation</th>\n",
       "      <th>Applicant_Qualification</th>\n",
       "      <th>Manager_DOJ</th>\n",
       "      <th>...</th>\n",
       "      <th>Manager_Status</th>\n",
       "      <th>Manager_Gender</th>\n",
       "      <th>Manager_DoB</th>\n",
       "      <th>Manager_Num_Application</th>\n",
       "      <th>Manager_Num_Coded</th>\n",
       "      <th>Manager_Business</th>\n",
       "      <th>Manager_Num_Products</th>\n",
       "      <th>Manager_Business2</th>\n",
       "      <th>Manager_Num_Products2</th>\n",
       "      <th>Business_Sourced</th>\n",
       "    </tr>\n",
       "  </thead>\n",
       "  <tbody>\n",
       "    <tr>\n",
       "      <th>0</th>\n",
       "      <td>FIN1000001</td>\n",
       "      <td>842001</td>\n",
       "      <td>4/16/2007</td>\n",
       "      <td>844120.0</td>\n",
       "      <td>M</td>\n",
       "      <td>12/19/1971</td>\n",
       "      <td>M</td>\n",
       "      <td>Others</td>\n",
       "      <td>Graduate</td>\n",
       "      <td>11/10/2005</td>\n",
       "      <td>...</td>\n",
       "      <td>Confirmation</td>\n",
       "      <td>M</td>\n",
       "      <td>2/17/1978</td>\n",
       "      <td>2.0</td>\n",
       "      <td>1.0</td>\n",
       "      <td>335249.0</td>\n",
       "      <td>28.0</td>\n",
       "      <td>335249.0</td>\n",
       "      <td>28.0</td>\n",
       "      <td>0</td>\n",
       "    </tr>\n",
       "    <tr>\n",
       "      <th>1</th>\n",
       "      <td>FIN1000002</td>\n",
       "      <td>842001</td>\n",
       "      <td>4/16/2007</td>\n",
       "      <td>844111.0</td>\n",
       "      <td>M</td>\n",
       "      <td>2/17/1983</td>\n",
       "      <td>S</td>\n",
       "      <td>Others</td>\n",
       "      <td>Class XII</td>\n",
       "      <td>11/10/2005</td>\n",
       "      <td>...</td>\n",
       "      <td>Confirmation</td>\n",
       "      <td>M</td>\n",
       "      <td>2/17/1978</td>\n",
       "      <td>2.0</td>\n",
       "      <td>1.0</td>\n",
       "      <td>335249.0</td>\n",
       "      <td>28.0</td>\n",
       "      <td>335249.0</td>\n",
       "      <td>28.0</td>\n",
       "      <td>1</td>\n",
       "    </tr>\n",
       "    <tr>\n",
       "      <th>2</th>\n",
       "      <td>FIN1000003</td>\n",
       "      <td>800001</td>\n",
       "      <td>4/16/2007</td>\n",
       "      <td>844101.0</td>\n",
       "      <td>M</td>\n",
       "      <td>1/16/1966</td>\n",
       "      <td>M</td>\n",
       "      <td>Business</td>\n",
       "      <td>Class XII</td>\n",
       "      <td>5/27/2006</td>\n",
       "      <td>...</td>\n",
       "      <td>Confirmation</td>\n",
       "      <td>M</td>\n",
       "      <td>3/3/1969</td>\n",
       "      <td>0.0</td>\n",
       "      <td>0.0</td>\n",
       "      <td>357184.0</td>\n",
       "      <td>24.0</td>\n",
       "      <td>357184.0</td>\n",
       "      <td>24.0</td>\n",
       "      <td>0</td>\n",
       "    </tr>\n",
       "    <tr>\n",
       "      <th>3</th>\n",
       "      <td>FIN1000004</td>\n",
       "      <td>814112</td>\n",
       "      <td>4/16/2007</td>\n",
       "      <td>814112.0</td>\n",
       "      <td>M</td>\n",
       "      <td>2/3/1988</td>\n",
       "      <td>S</td>\n",
       "      <td>Salaried</td>\n",
       "      <td>Class XII</td>\n",
       "      <td>8/21/2003</td>\n",
       "      <td>...</td>\n",
       "      <td>Confirmation</td>\n",
       "      <td>F</td>\n",
       "      <td>8/14/1978</td>\n",
       "      <td>0.0</td>\n",
       "      <td>0.0</td>\n",
       "      <td>318356.0</td>\n",
       "      <td>22.0</td>\n",
       "      <td>318356.0</td>\n",
       "      <td>22.0</td>\n",
       "      <td>0</td>\n",
       "    </tr>\n",
       "    <tr>\n",
       "      <th>4</th>\n",
       "      <td>FIN1000005</td>\n",
       "      <td>814112</td>\n",
       "      <td>4/16/2007</td>\n",
       "      <td>815351.0</td>\n",
       "      <td>M</td>\n",
       "      <td>7/4/1985</td>\n",
       "      <td>M</td>\n",
       "      <td>Others</td>\n",
       "      <td>Class XII</td>\n",
       "      <td>5/8/2006</td>\n",
       "      <td>...</td>\n",
       "      <td>Confirmation</td>\n",
       "      <td>M</td>\n",
       "      <td>2/7/1971</td>\n",
       "      <td>2.0</td>\n",
       "      <td>1.0</td>\n",
       "      <td>230402.0</td>\n",
       "      <td>17.0</td>\n",
       "      <td>230402.0</td>\n",
       "      <td>17.0</td>\n",
       "      <td>0</td>\n",
       "    </tr>\n",
       "  </tbody>\n",
       "</table>\n",
       "<p>5 rows × 23 columns</p>\n",
       "</div>"
      ],
      "text/plain": [
       "           ID  Office_PIN Application_Receipt_Date  Applicant_City_PIN  \\\n",
       "0  FIN1000001      842001                4/16/2007            844120.0   \n",
       "1  FIN1000002      842001                4/16/2007            844111.0   \n",
       "2  FIN1000003      800001                4/16/2007            844101.0   \n",
       "3  FIN1000004      814112                4/16/2007            814112.0   \n",
       "4  FIN1000005      814112                4/16/2007            815351.0   \n",
       "\n",
       "  Applicant_Gender Applicant_BirthDate Applicant_Marital_Status  \\\n",
       "0                M          12/19/1971                        M   \n",
       "1                M           2/17/1983                        S   \n",
       "2                M           1/16/1966                        M   \n",
       "3                M            2/3/1988                        S   \n",
       "4                M            7/4/1985                        M   \n",
       "\n",
       "  Applicant_Occupation Applicant_Qualification Manager_DOJ  ...  \\\n",
       "0               Others                Graduate  11/10/2005  ...   \n",
       "1               Others               Class XII  11/10/2005  ...   \n",
       "2             Business               Class XII   5/27/2006  ...   \n",
       "3             Salaried               Class XII   8/21/2003  ...   \n",
       "4               Others               Class XII    5/8/2006  ...   \n",
       "\n",
       "  Manager_Status Manager_Gender  Manager_DoB Manager_Num_Application  \\\n",
       "0   Confirmation              M    2/17/1978                     2.0   \n",
       "1   Confirmation              M    2/17/1978                     2.0   \n",
       "2   Confirmation              M     3/3/1969                     0.0   \n",
       "3   Confirmation              F    8/14/1978                     0.0   \n",
       "4   Confirmation              M     2/7/1971                     2.0   \n",
       "\n",
       "  Manager_Num_Coded Manager_Business  Manager_Num_Products  Manager_Business2  \\\n",
       "0               1.0         335249.0                  28.0           335249.0   \n",
       "1               1.0         335249.0                  28.0           335249.0   \n",
       "2               0.0         357184.0                  24.0           357184.0   \n",
       "3               0.0         318356.0                  22.0           318356.0   \n",
       "4               1.0         230402.0                  17.0           230402.0   \n",
       "\n",
       "   Manager_Num_Products2  Business_Sourced  \n",
       "0                   28.0                 0  \n",
       "1                   28.0                 1  \n",
       "2                   24.0                 0  \n",
       "3                   22.0                 0  \n",
       "4                   17.0                 0  \n",
       "\n",
       "[5 rows x 23 columns]"
      ]
     },
     "execution_count": 19,
     "metadata": {},
     "output_type": "execute_result"
    }
   ],
   "source": [
    "#checking the head of the data\n",
    "train_data.head()"
   ]
  },
  {
   "cell_type": "code",
   "execution_count": 21,
   "id": "1b1556c4",
   "metadata": {},
   "outputs": [
    {
     "data": {
      "text/plain": [
       "(5045, 22)"
      ]
     },
     "execution_count": 21,
     "metadata": {},
     "output_type": "execute_result"
    }
   ],
   "source": [
    "test_data.shape"
   ]
  },
  {
   "cell_type": "code",
   "execution_count": 22,
   "id": "02e9e097",
   "metadata": {
    "scrolled": true
   },
   "outputs": [
    {
     "data": {
      "text/plain": [
       "ID                              object\n",
       "Office_PIN                       int64\n",
       "Application_Receipt_Date        object\n",
       "Applicant_City_PIN             float64\n",
       "Applicant_Gender                object\n",
       "Applicant_BirthDate             object\n",
       "Applicant_Marital_Status        object\n",
       "Applicant_Occupation            object\n",
       "Applicant_Qualification         object\n",
       "Manager_DOJ                     object\n",
       "Manager_Joining_Designation     object\n",
       "Manager_Current_Designation     object\n",
       "Manager_Grade                  float64\n",
       "Manager_Status                  object\n",
       "Manager_Gender                  object\n",
       "Manager_DoB                     object\n",
       "Manager_Num_Application        float64\n",
       "Manager_Num_Coded              float64\n",
       "Manager_Business               float64\n",
       "Manager_Num_Products           float64\n",
       "Manager_Business2              float64\n",
       "Manager_Num_Products2          float64\n",
       "Business_Sourced                 int64\n",
       "dtype: object"
      ]
     },
     "execution_count": 22,
     "metadata": {},
     "output_type": "execute_result"
    }
   ],
   "source": [
    "#Checking the datatypes of the variables\n",
    "train_data.dtypes"
   ]
  },
  {
   "cell_type": "code",
   "execution_count": 23,
   "id": "e9e199a5",
   "metadata": {},
   "outputs": [],
   "source": [
    "#Converting date variables into date type\n",
    "date_columns = ['Application_Receipt_Date','Applicant_BirthDate','Manager_DOJ','Manager_DoB']\n",
    "\n",
    "for i in date_columns:\n",
    "    train_data[i] = pd.to_datetime(train_data[i])"
   ]
  },
  {
   "cell_type": "code",
   "execution_count": 24,
   "id": "485a489e",
   "metadata": {
    "scrolled": true
   },
   "outputs": [
    {
     "data": {
      "text/plain": [
       "ID                                     object\n",
       "Office_PIN                              int64\n",
       "Application_Receipt_Date       datetime64[ns]\n",
       "Applicant_City_PIN                    float64\n",
       "Applicant_Gender                       object\n",
       "Applicant_BirthDate            datetime64[ns]\n",
       "Applicant_Marital_Status               object\n",
       "Applicant_Occupation                   object\n",
       "Applicant_Qualification                object\n",
       "Manager_DOJ                    datetime64[ns]\n",
       "Manager_Joining_Designation            object\n",
       "Manager_Current_Designation            object\n",
       "Manager_Grade                         float64\n",
       "Manager_Status                         object\n",
       "Manager_Gender                         object\n",
       "Manager_DoB                    datetime64[ns]\n",
       "Manager_Num_Application               float64\n",
       "Manager_Num_Coded                     float64\n",
       "Manager_Business                      float64\n",
       "Manager_Num_Products                  float64\n",
       "Manager_Business2                     float64\n",
       "Manager_Num_Products2                 float64\n",
       "Business_Sourced                        int64\n",
       "dtype: object"
      ]
     },
     "execution_count": 24,
     "metadata": {},
     "output_type": "execute_result"
    }
   ],
   "source": [
    "train_data.dtypes"
   ]
  },
  {
   "cell_type": "code",
   "execution_count": 25,
   "id": "68b7f5bf",
   "metadata": {},
   "outputs": [
    {
     "data": {
      "text/plain": [
       "ID                                0\n",
       "Office_PIN                        0\n",
       "Application_Receipt_Date          0\n",
       "Applicant_City_PIN               97\n",
       "Applicant_Gender                 67\n",
       "Applicant_BirthDate              73\n",
       "Applicant_Marital_Status         73\n",
       "Applicant_Occupation           1221\n",
       "Applicant_Qualification          86\n",
       "Manager_DOJ                     683\n",
       "Manager_Joining_Designation     683\n",
       "Manager_Current_Designation     683\n",
       "Manager_Grade                   683\n",
       "Manager_Status                  683\n",
       "Manager_Gender                  683\n",
       "Manager_DoB                     683\n",
       "Manager_Num_Application         683\n",
       "Manager_Num_Coded               683\n",
       "Manager_Business                683\n",
       "Manager_Num_Products            683\n",
       "Manager_Business2               683\n",
       "Manager_Num_Products2           683\n",
       "Business_Sourced                  0\n",
       "dtype: int64"
      ]
     },
     "execution_count": 25,
     "metadata": {},
     "output_type": "execute_result"
    }
   ],
   "source": [
    "#Checking null values in the data\n",
    "train_data.isnull().sum()"
   ]
  },
  {
   "cell_type": "code",
   "execution_count": 26,
   "id": "896ddadb",
   "metadata": {},
   "outputs": [
    {
     "data": {
      "text/plain": [
       "(9527, 23)"
      ]
     },
     "execution_count": 26,
     "metadata": {},
     "output_type": "execute_result"
    }
   ],
   "source": [
    "train_data.shape"
   ]
  },
  {
   "cell_type": "markdown",
   "id": "f3b05381",
   "metadata": {},
   "source": [
    "Anatomy of the variables\n",
    "ID                             : Qualitative\n",
    "Office_PIN                     : Qualitative\n",
    "Application_Receipt_Date       : Qualitative\n",
    "Applicant_City_PIN             : Qualitative\n",
    "Applicant_Gender               : Categorical\n",
    "Applicant_BirthDate            : Qualitative\n",
    "Applicant_Marital_Status       : Categorical\n",
    "Applicant_Occupation           : Categorical\n",
    "Applicant_Qualification        : Categorical\n",
    "Manager_DOJ                    : Qualitative\n",
    "Manager_Joining_Designation    : Categorical\n",
    "Manager_Current_Designation    : Categorical\n",
    "Manager_Grade                  : Categorical\n",
    "Manager_Status                 : Categorical\n",
    "Manager_Gender                 : Categorical\n",
    "Manager_DoB                    : Qualitative\n",
    "Manager_Num_Application        : Quantitative\n",
    "Manager_Num_Coded              : Categorical\n",
    "Manager_Business               : Quantitative\n",
    "Manager_Num_Products           : Quantitative\n",
    "Manager_Business2              : Quantitative\n",
    "Manager_Num_Products2          : Quantitative\n",
    "Business_Sourced               : Categorical (Target Variable)"
   ]
  },
  {
   "cell_type": "code",
   "execution_count": 330,
   "id": "d70764b4",
   "metadata": {
    "scrolled": false
   },
   "outputs": [
    {
     "data": {
      "text/html": [
       "<div>\n",
       "<style scoped>\n",
       "    .dataframe tbody tr th:only-of-type {\n",
       "        vertical-align: middle;\n",
       "    }\n",
       "\n",
       "    .dataframe tbody tr th {\n",
       "        vertical-align: top;\n",
       "    }\n",
       "\n",
       "    .dataframe thead th {\n",
       "        text-align: right;\n",
       "    }\n",
       "</style>\n",
       "<table border=\"1\" class=\"dataframe\">\n",
       "  <thead>\n",
       "    <tr style=\"text-align: right;\">\n",
       "      <th></th>\n",
       "      <th>ID</th>\n",
       "      <th>Office_PIN</th>\n",
       "      <th>Application_Receipt_Date</th>\n",
       "      <th>Applicant_City_PIN</th>\n",
       "      <th>Applicant_Gender</th>\n",
       "      <th>Applicant_BirthDate</th>\n",
       "      <th>Applicant_Marital_Status</th>\n",
       "      <th>Applicant_Occupation</th>\n",
       "      <th>Applicant_Qualification</th>\n",
       "      <th>Manager_DOJ</th>\n",
       "      <th>...</th>\n",
       "      <th>Manager_Status</th>\n",
       "      <th>Manager_Gender</th>\n",
       "      <th>Manager_DoB</th>\n",
       "      <th>Manager_Num_Application</th>\n",
       "      <th>Manager_Num_Coded</th>\n",
       "      <th>Manager_Business</th>\n",
       "      <th>Manager_Num_Products</th>\n",
       "      <th>Manager_Business2</th>\n",
       "      <th>Manager_Num_Products2</th>\n",
       "      <th>Business_Sourced</th>\n",
       "    </tr>\n",
       "  </thead>\n",
       "  <tbody>\n",
       "    <tr>\n",
       "      <th>0</th>\n",
       "      <td>FIN1000001</td>\n",
       "      <td>842001</td>\n",
       "      <td>2007-04-16</td>\n",
       "      <td>844120.0</td>\n",
       "      <td>M</td>\n",
       "      <td>1971-12-19</td>\n",
       "      <td>M</td>\n",
       "      <td>Others</td>\n",
       "      <td>Graduate</td>\n",
       "      <td>2005-11-10</td>\n",
       "      <td>...</td>\n",
       "      <td>Confirmation</td>\n",
       "      <td>M</td>\n",
       "      <td>1978-02-17</td>\n",
       "      <td>2.0</td>\n",
       "      <td>1.0</td>\n",
       "      <td>335249.0</td>\n",
       "      <td>28.0</td>\n",
       "      <td>335249.0</td>\n",
       "      <td>28.0</td>\n",
       "      <td>0</td>\n",
       "    </tr>\n",
       "    <tr>\n",
       "      <th>1</th>\n",
       "      <td>FIN1000002</td>\n",
       "      <td>842001</td>\n",
       "      <td>2007-04-16</td>\n",
       "      <td>844111.0</td>\n",
       "      <td>M</td>\n",
       "      <td>1983-02-17</td>\n",
       "      <td>S</td>\n",
       "      <td>Others</td>\n",
       "      <td>Class XII</td>\n",
       "      <td>2005-11-10</td>\n",
       "      <td>...</td>\n",
       "      <td>Confirmation</td>\n",
       "      <td>M</td>\n",
       "      <td>1978-02-17</td>\n",
       "      <td>2.0</td>\n",
       "      <td>1.0</td>\n",
       "      <td>335249.0</td>\n",
       "      <td>28.0</td>\n",
       "      <td>335249.0</td>\n",
       "      <td>28.0</td>\n",
       "      <td>1</td>\n",
       "    </tr>\n",
       "    <tr>\n",
       "      <th>2</th>\n",
       "      <td>FIN1000003</td>\n",
       "      <td>800001</td>\n",
       "      <td>2007-04-16</td>\n",
       "      <td>844101.0</td>\n",
       "      <td>M</td>\n",
       "      <td>1966-01-16</td>\n",
       "      <td>M</td>\n",
       "      <td>Business</td>\n",
       "      <td>Class XII</td>\n",
       "      <td>2006-05-27</td>\n",
       "      <td>...</td>\n",
       "      <td>Confirmation</td>\n",
       "      <td>M</td>\n",
       "      <td>1969-03-03</td>\n",
       "      <td>0.0</td>\n",
       "      <td>0.0</td>\n",
       "      <td>357184.0</td>\n",
       "      <td>24.0</td>\n",
       "      <td>357184.0</td>\n",
       "      <td>24.0</td>\n",
       "      <td>0</td>\n",
       "    </tr>\n",
       "    <tr>\n",
       "      <th>3</th>\n",
       "      <td>FIN1000004</td>\n",
       "      <td>814112</td>\n",
       "      <td>2007-04-16</td>\n",
       "      <td>814112.0</td>\n",
       "      <td>M</td>\n",
       "      <td>1988-02-03</td>\n",
       "      <td>S</td>\n",
       "      <td>Salaried</td>\n",
       "      <td>Class XII</td>\n",
       "      <td>2003-08-21</td>\n",
       "      <td>...</td>\n",
       "      <td>Confirmation</td>\n",
       "      <td>F</td>\n",
       "      <td>1978-08-14</td>\n",
       "      <td>0.0</td>\n",
       "      <td>0.0</td>\n",
       "      <td>318356.0</td>\n",
       "      <td>22.0</td>\n",
       "      <td>318356.0</td>\n",
       "      <td>22.0</td>\n",
       "      <td>0</td>\n",
       "    </tr>\n",
       "    <tr>\n",
       "      <th>4</th>\n",
       "      <td>FIN1000005</td>\n",
       "      <td>814112</td>\n",
       "      <td>2007-04-16</td>\n",
       "      <td>815351.0</td>\n",
       "      <td>M</td>\n",
       "      <td>1985-07-04</td>\n",
       "      <td>M</td>\n",
       "      <td>Others</td>\n",
       "      <td>Class XII</td>\n",
       "      <td>2006-05-08</td>\n",
       "      <td>...</td>\n",
       "      <td>Confirmation</td>\n",
       "      <td>M</td>\n",
       "      <td>1971-02-07</td>\n",
       "      <td>2.0</td>\n",
       "      <td>1.0</td>\n",
       "      <td>230402.0</td>\n",
       "      <td>17.0</td>\n",
       "      <td>230402.0</td>\n",
       "      <td>17.0</td>\n",
       "      <td>0</td>\n",
       "    </tr>\n",
       "  </tbody>\n",
       "</table>\n",
       "<p>5 rows × 23 columns</p>\n",
       "</div>"
      ],
      "text/plain": [
       "           ID  Office_PIN Application_Receipt_Date  Applicant_City_PIN  \\\n",
       "0  FIN1000001      842001               2007-04-16            844120.0   \n",
       "1  FIN1000002      842001               2007-04-16            844111.0   \n",
       "2  FIN1000003      800001               2007-04-16            844101.0   \n",
       "3  FIN1000004      814112               2007-04-16            814112.0   \n",
       "4  FIN1000005      814112               2007-04-16            815351.0   \n",
       "\n",
       "  Applicant_Gender Applicant_BirthDate Applicant_Marital_Status  \\\n",
       "0                M          1971-12-19                        M   \n",
       "1                M          1983-02-17                        S   \n",
       "2                M          1966-01-16                        M   \n",
       "3                M          1988-02-03                        S   \n",
       "4                M          1985-07-04                        M   \n",
       "\n",
       "  Applicant_Occupation Applicant_Qualification Manager_DOJ  ...  \\\n",
       "0               Others                Graduate  2005-11-10  ...   \n",
       "1               Others               Class XII  2005-11-10  ...   \n",
       "2             Business               Class XII  2006-05-27  ...   \n",
       "3             Salaried               Class XII  2003-08-21  ...   \n",
       "4               Others               Class XII  2006-05-08  ...   \n",
       "\n",
       "  Manager_Status Manager_Gender  Manager_DoB Manager_Num_Application  \\\n",
       "0   Confirmation              M   1978-02-17                     2.0   \n",
       "1   Confirmation              M   1978-02-17                     2.0   \n",
       "2   Confirmation              M   1969-03-03                     0.0   \n",
       "3   Confirmation              F   1978-08-14                     0.0   \n",
       "4   Confirmation              M   1971-02-07                     2.0   \n",
       "\n",
       "  Manager_Num_Coded Manager_Business  Manager_Num_Products  Manager_Business2  \\\n",
       "0               1.0         335249.0                  28.0           335249.0   \n",
       "1               1.0         335249.0                  28.0           335249.0   \n",
       "2               0.0         357184.0                  24.0           357184.0   \n",
       "3               0.0         318356.0                  22.0           318356.0   \n",
       "4               1.0         230402.0                  17.0           230402.0   \n",
       "\n",
       "   Manager_Num_Products2  Business_Sourced  \n",
       "0                   28.0                 0  \n",
       "1                   28.0                 1  \n",
       "2                   24.0                 0  \n",
       "3                   22.0                 0  \n",
       "4                   17.0                 0  \n",
       "\n",
       "[5 rows x 23 columns]"
      ]
     },
     "execution_count": 330,
     "metadata": {},
     "output_type": "execute_result"
    }
   ],
   "source": [
    "train_data.head()"
   ]
  },
  {
   "cell_type": "code",
   "execution_count": 27,
   "id": "b879c7cc",
   "metadata": {},
   "outputs": [],
   "source": [
    "test_copy_data = test_data.copy()"
   ]
  },
  {
   "cell_type": "code",
   "execution_count": 28,
   "id": "9a2b3875",
   "metadata": {},
   "outputs": [
    {
     "data": {
      "text/plain": [
       "ID                              object\n",
       "Office_PIN                       int64\n",
       "Application_Receipt_Date        object\n",
       "Applicant_City_PIN             float64\n",
       "Applicant_Gender                object\n",
       "Applicant_BirthDate             object\n",
       "Applicant_Marital_Status        object\n",
       "Applicant_Occupation            object\n",
       "Applicant_Qualification         object\n",
       "Manager_DOJ                     object\n",
       "Manager_Joining_Designation     object\n",
       "Manager_Current_Designation     object\n",
       "Manager_Grade                  float64\n",
       "Manager_Status                  object\n",
       "Manager_Gender                  object\n",
       "Manager_DoB                     object\n",
       "Manager_Num_Application        float64\n",
       "Manager_Num_Coded              float64\n",
       "Manager_Business               float64\n",
       "Manager_Num_Products           float64\n",
       "Manager_Business2              float64\n",
       "Manager_Num_Products2          float64\n",
       "dtype: object"
      ]
     },
     "execution_count": 28,
     "metadata": {},
     "output_type": "execute_result"
    }
   ],
   "source": [
    "test_copy_data.dtypes"
   ]
  },
  {
   "cell_type": "code",
   "execution_count": 29,
   "id": "2c8bdaa1",
   "metadata": {},
   "outputs": [],
   "source": [
    "for i in date_columns:\n",
    "    test_copy_data[i] = pd.to_datetime(test_copy_data[i])"
   ]
  },
  {
   "cell_type": "code",
   "execution_count": 30,
   "id": "52a39151",
   "metadata": {},
   "outputs": [],
   "source": [
    "#Extracting month and year from the Application Receipt Data\n",
    "train_data['Application_Receipt_month']=train_data['Application_Receipt_Date'].dt.strftime('%b')\n",
    "train_data['Application_Receipt_year']=train_data['Application_Receipt_Date'].dt.year\n",
    "\n",
    "###-----------------------------------------------------------------------------------------###\n",
    "\n",
    "#Extracting month and year from the Application Receipt Data\n",
    "test_copy_data['Application_Receipt_month']=test_copy_data['Application_Receipt_Date'].dt.strftime('%b')\n",
    "test_copy_data['Application_Receipt_year']=test_copy_data['Application_Receipt_Date'].dt.year"
   ]
  },
  {
   "cell_type": "code",
   "execution_count": 31,
   "id": "ef60d4e0",
   "metadata": {},
   "outputs": [],
   "source": [
    "#Extracting Applicant and Manager Age from Applicant BirthDate and Manager DOB\n",
    "\n",
    "today = train_data['Application_Receipt_Date'].dt.year\n",
    "train_data['Applicant_Age']=today- train_data['Applicant_BirthDate'].dt.year\n",
    "train_data['Manager_Age']= today- train_data['Manager_DoB'].dt.year\n",
    "train_data['Manager_YOP']=  today- train_data['Manager_DOJ'].dt.year\n",
    "\n",
    "#-------------------------------------------------------------------------------------------#\n",
    "\n",
    "today_test = test_copy_data['Application_Receipt_Date'].dt.year\n",
    "test_copy_data['Applicant_Age'] = today_test- test_copy_data['Applicant_BirthDate'].dt.year\n",
    "test_copy_data['Manager_Age'] = today_test - test_copy_data['Manager_DoB'].dt.year\n",
    "test_copy_data['Manager_YOP'] = today_test - test_copy_data['Manager_DOJ'].dt.year\n"
   ]
  },
  {
   "cell_type": "code",
   "execution_count": 32,
   "id": "8e4e9bcb",
   "metadata": {},
   "outputs": [
    {
     "data": {
      "text/html": [
       "<div>\n",
       "<style scoped>\n",
       "    .dataframe tbody tr th:only-of-type {\n",
       "        vertical-align: middle;\n",
       "    }\n",
       "\n",
       "    .dataframe tbody tr th {\n",
       "        vertical-align: top;\n",
       "    }\n",
       "\n",
       "    .dataframe thead th {\n",
       "        text-align: right;\n",
       "    }\n",
       "</style>\n",
       "<table border=\"1\" class=\"dataframe\">\n",
       "  <thead>\n",
       "    <tr style=\"text-align: right;\">\n",
       "      <th></th>\n",
       "      <th>ID</th>\n",
       "      <th>Office_PIN</th>\n",
       "      <th>Application_Receipt_Date</th>\n",
       "      <th>Applicant_City_PIN</th>\n",
       "      <th>Applicant_Gender</th>\n",
       "      <th>Applicant_BirthDate</th>\n",
       "      <th>Applicant_Marital_Status</th>\n",
       "      <th>Applicant_Occupation</th>\n",
       "      <th>Applicant_Qualification</th>\n",
       "      <th>Manager_DOJ</th>\n",
       "      <th>...</th>\n",
       "      <th>Manager_Business</th>\n",
       "      <th>Manager_Num_Products</th>\n",
       "      <th>Manager_Business2</th>\n",
       "      <th>Manager_Num_Products2</th>\n",
       "      <th>Business_Sourced</th>\n",
       "      <th>Application_Receipt_month</th>\n",
       "      <th>Application_Receipt_year</th>\n",
       "      <th>Applicant_Age</th>\n",
       "      <th>Manager_Age</th>\n",
       "      <th>Manager_YOP</th>\n",
       "    </tr>\n",
       "  </thead>\n",
       "  <tbody>\n",
       "    <tr>\n",
       "      <th>0</th>\n",
       "      <td>FIN1000001</td>\n",
       "      <td>842001</td>\n",
       "      <td>2007-04-16</td>\n",
       "      <td>844120.0</td>\n",
       "      <td>M</td>\n",
       "      <td>1971-12-19</td>\n",
       "      <td>M</td>\n",
       "      <td>Others</td>\n",
       "      <td>Graduate</td>\n",
       "      <td>2005-11-10</td>\n",
       "      <td>...</td>\n",
       "      <td>335249.0</td>\n",
       "      <td>28.0</td>\n",
       "      <td>335249.0</td>\n",
       "      <td>28.0</td>\n",
       "      <td>0</td>\n",
       "      <td>Apr</td>\n",
       "      <td>2007</td>\n",
       "      <td>36.0</td>\n",
       "      <td>29.0</td>\n",
       "      <td>2.0</td>\n",
       "    </tr>\n",
       "    <tr>\n",
       "      <th>1</th>\n",
       "      <td>FIN1000002</td>\n",
       "      <td>842001</td>\n",
       "      <td>2007-04-16</td>\n",
       "      <td>844111.0</td>\n",
       "      <td>M</td>\n",
       "      <td>1983-02-17</td>\n",
       "      <td>S</td>\n",
       "      <td>Others</td>\n",
       "      <td>Class XII</td>\n",
       "      <td>2005-11-10</td>\n",
       "      <td>...</td>\n",
       "      <td>335249.0</td>\n",
       "      <td>28.0</td>\n",
       "      <td>335249.0</td>\n",
       "      <td>28.0</td>\n",
       "      <td>1</td>\n",
       "      <td>Apr</td>\n",
       "      <td>2007</td>\n",
       "      <td>24.0</td>\n",
       "      <td>29.0</td>\n",
       "      <td>2.0</td>\n",
       "    </tr>\n",
       "    <tr>\n",
       "      <th>2</th>\n",
       "      <td>FIN1000003</td>\n",
       "      <td>800001</td>\n",
       "      <td>2007-04-16</td>\n",
       "      <td>844101.0</td>\n",
       "      <td>M</td>\n",
       "      <td>1966-01-16</td>\n",
       "      <td>M</td>\n",
       "      <td>Business</td>\n",
       "      <td>Class XII</td>\n",
       "      <td>2006-05-27</td>\n",
       "      <td>...</td>\n",
       "      <td>357184.0</td>\n",
       "      <td>24.0</td>\n",
       "      <td>357184.0</td>\n",
       "      <td>24.0</td>\n",
       "      <td>0</td>\n",
       "      <td>Apr</td>\n",
       "      <td>2007</td>\n",
       "      <td>41.0</td>\n",
       "      <td>38.0</td>\n",
       "      <td>1.0</td>\n",
       "    </tr>\n",
       "    <tr>\n",
       "      <th>3</th>\n",
       "      <td>FIN1000004</td>\n",
       "      <td>814112</td>\n",
       "      <td>2007-04-16</td>\n",
       "      <td>814112.0</td>\n",
       "      <td>M</td>\n",
       "      <td>1988-02-03</td>\n",
       "      <td>S</td>\n",
       "      <td>Salaried</td>\n",
       "      <td>Class XII</td>\n",
       "      <td>2003-08-21</td>\n",
       "      <td>...</td>\n",
       "      <td>318356.0</td>\n",
       "      <td>22.0</td>\n",
       "      <td>318356.0</td>\n",
       "      <td>22.0</td>\n",
       "      <td>0</td>\n",
       "      <td>Apr</td>\n",
       "      <td>2007</td>\n",
       "      <td>19.0</td>\n",
       "      <td>29.0</td>\n",
       "      <td>4.0</td>\n",
       "    </tr>\n",
       "    <tr>\n",
       "      <th>4</th>\n",
       "      <td>FIN1000005</td>\n",
       "      <td>814112</td>\n",
       "      <td>2007-04-16</td>\n",
       "      <td>815351.0</td>\n",
       "      <td>M</td>\n",
       "      <td>1985-07-04</td>\n",
       "      <td>M</td>\n",
       "      <td>Others</td>\n",
       "      <td>Class XII</td>\n",
       "      <td>2006-05-08</td>\n",
       "      <td>...</td>\n",
       "      <td>230402.0</td>\n",
       "      <td>17.0</td>\n",
       "      <td>230402.0</td>\n",
       "      <td>17.0</td>\n",
       "      <td>0</td>\n",
       "      <td>Apr</td>\n",
       "      <td>2007</td>\n",
       "      <td>22.0</td>\n",
       "      <td>36.0</td>\n",
       "      <td>1.0</td>\n",
       "    </tr>\n",
       "  </tbody>\n",
       "</table>\n",
       "<p>5 rows × 28 columns</p>\n",
       "</div>"
      ],
      "text/plain": [
       "           ID  Office_PIN Application_Receipt_Date  Applicant_City_PIN  \\\n",
       "0  FIN1000001      842001               2007-04-16            844120.0   \n",
       "1  FIN1000002      842001               2007-04-16            844111.0   \n",
       "2  FIN1000003      800001               2007-04-16            844101.0   \n",
       "3  FIN1000004      814112               2007-04-16            814112.0   \n",
       "4  FIN1000005      814112               2007-04-16            815351.0   \n",
       "\n",
       "  Applicant_Gender Applicant_BirthDate Applicant_Marital_Status  \\\n",
       "0                M          1971-12-19                        M   \n",
       "1                M          1983-02-17                        S   \n",
       "2                M          1966-01-16                        M   \n",
       "3                M          1988-02-03                        S   \n",
       "4                M          1985-07-04                        M   \n",
       "\n",
       "  Applicant_Occupation Applicant_Qualification Manager_DOJ  ...  \\\n",
       "0               Others                Graduate  2005-11-10  ...   \n",
       "1               Others               Class XII  2005-11-10  ...   \n",
       "2             Business               Class XII  2006-05-27  ...   \n",
       "3             Salaried               Class XII  2003-08-21  ...   \n",
       "4               Others               Class XII  2006-05-08  ...   \n",
       "\n",
       "  Manager_Business Manager_Num_Products  Manager_Business2  \\\n",
       "0         335249.0                 28.0           335249.0   \n",
       "1         335249.0                 28.0           335249.0   \n",
       "2         357184.0                 24.0           357184.0   \n",
       "3         318356.0                 22.0           318356.0   \n",
       "4         230402.0                 17.0           230402.0   \n",
       "\n",
       "  Manager_Num_Products2 Business_Sourced Application_Receipt_month  \\\n",
       "0                  28.0                0                       Apr   \n",
       "1                  28.0                1                       Apr   \n",
       "2                  24.0                0                       Apr   \n",
       "3                  22.0                0                       Apr   \n",
       "4                  17.0                0                       Apr   \n",
       "\n",
       "   Application_Receipt_year  Applicant_Age  Manager_Age  Manager_YOP  \n",
       "0                      2007           36.0         29.0          2.0  \n",
       "1                      2007           24.0         29.0          2.0  \n",
       "2                      2007           41.0         38.0          1.0  \n",
       "3                      2007           19.0         29.0          4.0  \n",
       "4                      2007           22.0         36.0          1.0  \n",
       "\n",
       "[5 rows x 28 columns]"
      ]
     },
     "execution_count": 32,
     "metadata": {},
     "output_type": "execute_result"
    }
   ],
   "source": [
    "train_data.head()"
   ]
  },
  {
   "cell_type": "code",
   "execution_count": 33,
   "id": "0e722c62",
   "metadata": {},
   "outputs": [
    {
     "data": {
      "text/html": [
       "<div>\n",
       "<style scoped>\n",
       "    .dataframe tbody tr th:only-of-type {\n",
       "        vertical-align: middle;\n",
       "    }\n",
       "\n",
       "    .dataframe tbody tr th {\n",
       "        vertical-align: top;\n",
       "    }\n",
       "\n",
       "    .dataframe thead th {\n",
       "        text-align: right;\n",
       "    }\n",
       "</style>\n",
       "<table border=\"1\" class=\"dataframe\">\n",
       "  <thead>\n",
       "    <tr style=\"text-align: right;\">\n",
       "      <th></th>\n",
       "      <th>ID</th>\n",
       "      <th>Office_PIN</th>\n",
       "      <th>Application_Receipt_Date</th>\n",
       "      <th>Applicant_City_PIN</th>\n",
       "      <th>Applicant_Gender</th>\n",
       "      <th>Applicant_BirthDate</th>\n",
       "      <th>Applicant_Marital_Status</th>\n",
       "      <th>Applicant_Occupation</th>\n",
       "      <th>Applicant_Qualification</th>\n",
       "      <th>Manager_DOJ</th>\n",
       "      <th>...</th>\n",
       "      <th>Manager_Num_Coded</th>\n",
       "      <th>Manager_Business</th>\n",
       "      <th>Manager_Num_Products</th>\n",
       "      <th>Manager_Business2</th>\n",
       "      <th>Manager_Num_Products2</th>\n",
       "      <th>Application_Receipt_month</th>\n",
       "      <th>Application_Receipt_year</th>\n",
       "      <th>Applicant_Age</th>\n",
       "      <th>Manager_Age</th>\n",
       "      <th>Manager_YOP</th>\n",
       "    </tr>\n",
       "  </thead>\n",
       "  <tbody>\n",
       "    <tr>\n",
       "      <th>0</th>\n",
       "      <td>FIN1009528</td>\n",
       "      <td>284001</td>\n",
       "      <td>2008-07-02</td>\n",
       "      <td>284001.0</td>\n",
       "      <td>M</td>\n",
       "      <td>1982-08-05</td>\n",
       "      <td>S</td>\n",
       "      <td>Salaried</td>\n",
       "      <td>Graduate</td>\n",
       "      <td>2008-05-26</td>\n",
       "      <td>...</td>\n",
       "      <td>0.0</td>\n",
       "      <td>0.0</td>\n",
       "      <td>0.0</td>\n",
       "      <td>0.0</td>\n",
       "      <td>0.0</td>\n",
       "      <td>Jul</td>\n",
       "      <td>2008</td>\n",
       "      <td>26.0</td>\n",
       "      <td>30.0</td>\n",
       "      <td>0.0</td>\n",
       "    </tr>\n",
       "    <tr>\n",
       "      <th>1</th>\n",
       "      <td>FIN1009529</td>\n",
       "      <td>800001</td>\n",
       "      <td>2008-07-02</td>\n",
       "      <td>800026.0</td>\n",
       "      <td>M</td>\n",
       "      <td>1968-03-11</td>\n",
       "      <td>M</td>\n",
       "      <td>Salaried</td>\n",
       "      <td>Graduate</td>\n",
       "      <td>2008-06-24</td>\n",
       "      <td>...</td>\n",
       "      <td>0.0</td>\n",
       "      <td>0.0</td>\n",
       "      <td>0.0</td>\n",
       "      <td>0.0</td>\n",
       "      <td>0.0</td>\n",
       "      <td>Jul</td>\n",
       "      <td>2008</td>\n",
       "      <td>40.0</td>\n",
       "      <td>37.0</td>\n",
       "      <td>0.0</td>\n",
       "    </tr>\n",
       "    <tr>\n",
       "      <th>2</th>\n",
       "      <td>FIN1009530</td>\n",
       "      <td>800001</td>\n",
       "      <td>2008-07-02</td>\n",
       "      <td>NaN</td>\n",
       "      <td>M</td>\n",
       "      <td>1984-12-16</td>\n",
       "      <td>S</td>\n",
       "      <td>NaN</td>\n",
       "      <td>Graduate</td>\n",
       "      <td>NaT</td>\n",
       "      <td>...</td>\n",
       "      <td>NaN</td>\n",
       "      <td>NaN</td>\n",
       "      <td>NaN</td>\n",
       "      <td>NaN</td>\n",
       "      <td>NaN</td>\n",
       "      <td>Jul</td>\n",
       "      <td>2008</td>\n",
       "      <td>24.0</td>\n",
       "      <td>NaN</td>\n",
       "      <td>NaN</td>\n",
       "    </tr>\n",
       "    <tr>\n",
       "      <th>3</th>\n",
       "      <td>FIN1009531</td>\n",
       "      <td>800001</td>\n",
       "      <td>2008-07-02</td>\n",
       "      <td>844112.0</td>\n",
       "      <td>M</td>\n",
       "      <td>1971-06-07</td>\n",
       "      <td>S</td>\n",
       "      <td>Salaried</td>\n",
       "      <td>Graduate</td>\n",
       "      <td>NaT</td>\n",
       "      <td>...</td>\n",
       "      <td>NaN</td>\n",
       "      <td>NaN</td>\n",
       "      <td>NaN</td>\n",
       "      <td>NaN</td>\n",
       "      <td>NaN</td>\n",
       "      <td>Jul</td>\n",
       "      <td>2008</td>\n",
       "      <td>37.0</td>\n",
       "      <td>NaN</td>\n",
       "      <td>NaN</td>\n",
       "    </tr>\n",
       "    <tr>\n",
       "      <th>4</th>\n",
       "      <td>FIN1009532</td>\n",
       "      <td>533101</td>\n",
       "      <td>2008-07-02</td>\n",
       "      <td>533102.0</td>\n",
       "      <td>M</td>\n",
       "      <td>1978-07-22</td>\n",
       "      <td>S</td>\n",
       "      <td>NaN</td>\n",
       "      <td>Masters of Business Administration</td>\n",
       "      <td>2007-12-04</td>\n",
       "      <td>...</td>\n",
       "      <td>1.0</td>\n",
       "      <td>97352.0</td>\n",
       "      <td>3.0</td>\n",
       "      <td>97352.0</td>\n",
       "      <td>3.0</td>\n",
       "      <td>Jul</td>\n",
       "      <td>2008</td>\n",
       "      <td>30.0</td>\n",
       "      <td>31.0</td>\n",
       "      <td>1.0</td>\n",
       "    </tr>\n",
       "  </tbody>\n",
       "</table>\n",
       "<p>5 rows × 27 columns</p>\n",
       "</div>"
      ],
      "text/plain": [
       "           ID  Office_PIN Application_Receipt_Date  Applicant_City_PIN  \\\n",
       "0  FIN1009528      284001               2008-07-02            284001.0   \n",
       "1  FIN1009529      800001               2008-07-02            800026.0   \n",
       "2  FIN1009530      800001               2008-07-02                 NaN   \n",
       "3  FIN1009531      800001               2008-07-02            844112.0   \n",
       "4  FIN1009532      533101               2008-07-02            533102.0   \n",
       "\n",
       "  Applicant_Gender Applicant_BirthDate Applicant_Marital_Status  \\\n",
       "0                M          1982-08-05                        S   \n",
       "1                M          1968-03-11                        M   \n",
       "2                M          1984-12-16                        S   \n",
       "3                M          1971-06-07                        S   \n",
       "4                M          1978-07-22                        S   \n",
       "\n",
       "  Applicant_Occupation             Applicant_Qualification Manager_DOJ  ...  \\\n",
       "0             Salaried                            Graduate  2008-05-26  ...   \n",
       "1             Salaried                            Graduate  2008-06-24  ...   \n",
       "2                  NaN                            Graduate         NaT  ...   \n",
       "3             Salaried                            Graduate         NaT  ...   \n",
       "4                  NaN  Masters of Business Administration  2007-12-04  ...   \n",
       "\n",
       "  Manager_Num_Coded Manager_Business  Manager_Num_Products Manager_Business2  \\\n",
       "0               0.0              0.0                   0.0               0.0   \n",
       "1               0.0              0.0                   0.0               0.0   \n",
       "2               NaN              NaN                   NaN               NaN   \n",
       "3               NaN              NaN                   NaN               NaN   \n",
       "4               1.0          97352.0                   3.0           97352.0   \n",
       "\n",
       "  Manager_Num_Products2 Application_Receipt_month  Application_Receipt_year  \\\n",
       "0                   0.0                       Jul                      2008   \n",
       "1                   0.0                       Jul                      2008   \n",
       "2                   NaN                       Jul                      2008   \n",
       "3                   NaN                       Jul                      2008   \n",
       "4                   3.0                       Jul                      2008   \n",
       "\n",
       "   Applicant_Age  Manager_Age  Manager_YOP  \n",
       "0           26.0         30.0          0.0  \n",
       "1           40.0         37.0          0.0  \n",
       "2           24.0          NaN          NaN  \n",
       "3           37.0          NaN          NaN  \n",
       "4           30.0         31.0          1.0  \n",
       "\n",
       "[5 rows x 27 columns]"
      ]
     },
     "execution_count": 33,
     "metadata": {},
     "output_type": "execute_result"
    }
   ],
   "source": [
    "test_copy_data.head()"
   ]
  },
  {
   "cell_type": "code",
   "execution_count": 338,
   "id": "f07a3b1e",
   "metadata": {},
   "outputs": [
    {
     "data": {
      "text/plain": [
       "Index(['ID', 'Office_PIN', 'Application_Receipt_Date', 'Applicant_City_PIN',\n",
       "       'Applicant_Gender', 'Applicant_BirthDate', 'Applicant_Marital_Status',\n",
       "       'Applicant_Occupation', 'Applicant_Qualification', 'Manager_DOJ',\n",
       "       'Manager_Joining_Designation', 'Manager_Current_Designation',\n",
       "       'Manager_Grade', 'Manager_Status', 'Manager_Gender', 'Manager_DoB',\n",
       "       'Manager_Num_Application', 'Manager_Num_Coded', 'Manager_Business',\n",
       "       'Manager_Num_Products', 'Manager_Business2', 'Manager_Num_Products2',\n",
       "       'Business_Sourced', 'Application_Receipt_month',\n",
       "       'Application_Receipt_year', 'Applicant_Age', 'Manager_Age',\n",
       "       'Manager_YOP'],\n",
       "      dtype='object')"
      ]
     },
     "execution_count": 338,
     "metadata": {},
     "output_type": "execute_result"
    }
   ],
   "source": [
    "train_data.columns"
   ]
  },
  {
   "cell_type": "code",
   "execution_count": 34,
   "id": "d090d7c4",
   "metadata": {},
   "outputs": [],
   "source": [
    "#Removing useless columns from the data\n",
    "useless_columns = ['ID','Application_Receipt_Date','Applicant_BirthDate','Manager_DOJ','Manager_DoB']\n",
    "\n",
    "train_data.drop(useless_columns,axis=1,inplace=True)"
   ]
  },
  {
   "cell_type": "code",
   "execution_count": 35,
   "id": "dbec742f",
   "metadata": {},
   "outputs": [
    {
     "data": {
      "text/plain": [
       "(9527, 23)"
      ]
     },
     "execution_count": 35,
     "metadata": {},
     "output_type": "execute_result"
    }
   ],
   "source": [
    "train_data.shape"
   ]
  },
  {
   "cell_type": "code",
   "execution_count": 36,
   "id": "6d5d7657",
   "metadata": {
    "scrolled": true
   },
   "outputs": [
    {
     "data": {
      "text/plain": [
       "Index(['ID', 'Office_PIN', 'Application_Receipt_Date', 'Applicant_City_PIN',\n",
       "       'Applicant_Gender', 'Applicant_BirthDate', 'Applicant_Marital_Status',\n",
       "       'Applicant_Occupation', 'Applicant_Qualification', 'Manager_DOJ',\n",
       "       'Manager_Joining_Designation', 'Manager_Current_Designation',\n",
       "       'Manager_Grade', 'Manager_Status', 'Manager_Gender', 'Manager_DoB',\n",
       "       'Manager_Num_Application', 'Manager_Num_Coded', 'Manager_Business',\n",
       "       'Manager_Num_Products', 'Manager_Business2', 'Manager_Num_Products2',\n",
       "       'Application_Receipt_month', 'Application_Receipt_year',\n",
       "       'Applicant_Age', 'Manager_Age', 'Manager_YOP'],\n",
       "      dtype='object')"
      ]
     },
     "execution_count": 36,
     "metadata": {},
     "output_type": "execute_result"
    }
   ],
   "source": [
    "test_copy_data.columns"
   ]
  },
  {
   "cell_type": "code",
   "execution_count": 37,
   "id": "f0109911",
   "metadata": {},
   "outputs": [],
   "source": [
    "#Removing useless columns from the test data\n",
    "test_copy_data.drop(useless_columns,axis=1,inplace=True)"
   ]
  },
  {
   "cell_type": "code",
   "execution_count": 38,
   "id": "94702a21",
   "metadata": {},
   "outputs": [
    {
     "data": {
      "text/plain": [
       "(5045, 22)"
      ]
     },
     "execution_count": 38,
     "metadata": {},
     "output_type": "execute_result"
    }
   ],
   "source": [
    "test_copy_data.shape"
   ]
  },
  {
   "cell_type": "markdown",
   "id": "96d5654f",
   "metadata": {},
   "source": [
    "# Missing Value treatment of train data and test data"
   ]
  },
  {
   "cell_type": "code",
   "execution_count": 39,
   "id": "e30002eb",
   "metadata": {
    "scrolled": true
   },
   "outputs": [
    {
     "data": {
      "text/plain": [
       "Office_PIN                        0\n",
       "Applicant_City_PIN               97\n",
       "Applicant_Gender                 67\n",
       "Applicant_Marital_Status         73\n",
       "Applicant_Occupation           1221\n",
       "Applicant_Qualification          86\n",
       "Manager_Joining_Designation     683\n",
       "Manager_Current_Designation     683\n",
       "Manager_Grade                   683\n",
       "Manager_Status                  683\n",
       "Manager_Gender                  683\n",
       "Manager_Num_Application         683\n",
       "Manager_Num_Coded               683\n",
       "Manager_Business                683\n",
       "Manager_Num_Products            683\n",
       "Manager_Business2               683\n",
       "Manager_Num_Products2           683\n",
       "Business_Sourced                  0\n",
       "Application_Receipt_month         0\n",
       "Application_Receipt_year          0\n",
       "Applicant_Age                    73\n",
       "Manager_Age                     683\n",
       "Manager_YOP                     683\n",
       "dtype: int64"
      ]
     },
     "execution_count": 39,
     "metadata": {},
     "output_type": "execute_result"
    }
   ],
   "source": [
    "train_data.isnull().sum()"
   ]
  },
  {
   "cell_type": "code",
   "execution_count": 41,
   "id": "d0994f09",
   "metadata": {},
   "outputs": [],
   "source": [
    "cont_cols = ['Office_PIN', 'Applicant_City_PIN','Manager_Num_Application','Manager_Business', 'Manager_Num_Products', 'Manager_Business2',\n",
    "       'Manager_Num_Products2',\n",
    "       'Applicant_Age', 'Manager_Age']\n",
    "\n",
    "cat_cols = ['Applicant_Gender', 'Applicant_Marital_Status', 'Applicant_Occupation',\n",
    "       'Applicant_Qualification', 'Manager_Joining_Designation',\n",
    "       'Manager_Current_Designation', 'Manager_Grade', 'Manager_Status',\n",
    "       'Manager_Gender','Manager_Num_Coded','Application_Receipt_month', 'Manager_YOP','Application_Receipt_year']"
   ]
  },
  {
   "cell_type": "code",
   "execution_count": 42,
   "id": "ef4c85a1",
   "metadata": {},
   "outputs": [],
   "source": [
    "for i in cat_cols:\n",
    "    train_data[i] = train_data[i].astype('category')"
   ]
  },
  {
   "cell_type": "code",
   "execution_count": 43,
   "id": "b313446b",
   "metadata": {},
   "outputs": [
    {
     "data": {
      "text/plain": [
       "Office_PIN                        int64\n",
       "Applicant_City_PIN              float64\n",
       "Applicant_Gender               category\n",
       "Applicant_Marital_Status       category\n",
       "Applicant_Occupation           category\n",
       "Applicant_Qualification        category\n",
       "Manager_Joining_Designation    category\n",
       "Manager_Current_Designation    category\n",
       "Manager_Grade                  category\n",
       "Manager_Status                 category\n",
       "Manager_Gender                 category\n",
       "Manager_Num_Application         float64\n",
       "Manager_Num_Coded              category\n",
       "Manager_Business                float64\n",
       "Manager_Num_Products            float64\n",
       "Manager_Business2               float64\n",
       "Manager_Num_Products2           float64\n",
       "Business_Sourced                  int64\n",
       "Application_Receipt_month      category\n",
       "Application_Receipt_year       category\n",
       "Applicant_Age                   float64\n",
       "Manager_Age                     float64\n",
       "Manager_YOP                    category\n",
       "dtype: object"
      ]
     },
     "execution_count": 43,
     "metadata": {},
     "output_type": "execute_result"
    }
   ],
   "source": [
    "train_data.dtypes"
   ]
  },
  {
   "cell_type": "code",
   "execution_count": 44,
   "id": "39c25a7c",
   "metadata": {},
   "outputs": [],
   "source": [
    "train_data['Business_Sourced'] = train_data['Business_Sourced'].astype('category')"
   ]
  },
  {
   "cell_type": "code",
   "execution_count": 45,
   "id": "4cb81525",
   "metadata": {},
   "outputs": [],
   "source": [
    "#Replacing missing values with mode and median\n",
    "train_data['Applicant_Gender'].fillna(train_data['Applicant_Gender'].mode()[0],inplace=True)\n",
    "\n",
    "train_data['Applicant_City_PIN'].fillna(train_data['Applicant_City_PIN'].mode()[0], inplace = True)\n",
    "\n",
    "train_data['Applicant_Marital_Status'].fillna(train_data['Applicant_Marital_Status'].mode()[0],inplace=True)\n",
    "\n",
    "train_data['Applicant_Occupation'].fillna(train_data['Applicant_Occupation'].mode()[0],inplace=True)\n",
    "\n",
    "train_data['Applicant_Qualification'].fillna(train_data['Applicant_Qualification'].mode()[0],inplace=True)\n",
    "\n",
    "train_data['Manager_Joining_Designation'].fillna(train_data['Manager_Joining_Designation'].mode()[0],inplace=True)\n",
    "\n",
    "train_data['Manager_Current_Designation'].fillna(train_data['Manager_Current_Designation'].mode()[0],inplace=True)\n",
    "\n",
    "train_data['Manager_Grade'].fillna(train_data['Manager_Grade'].mode()[0],inplace=True)\n",
    "\n",
    "train_data['Manager_Status'].fillna(train_data['Manager_Status'].mode()[0],inplace=True)\n",
    "\n",
    "train_data['Manager_Gender'].fillna(train_data['Manager_Gender'].mode()[0],inplace=True)\n",
    "\n",
    "train_data['Manager_Num_Coded'].fillna(train_data['Manager_Num_Coded'].mode()[0],inplace=True)\n",
    "\n",
    "train_data['Manager_YOP'].fillna(train_data['Manager_YOP'].mode()[0],inplace=True)\n",
    "\n",
    "train_data['Manager_Num_Application'].fillna(train_data['Manager_Num_Application'].median(),inplace=True)\n",
    "\n",
    "train_data['Manager_Business'].fillna(train_data['Manager_Business'].median(),inplace=True)\n",
    "\n",
    "train_data['Manager_Business2'].fillna(train_data['Manager_Business2'].median(),inplace=True)\n",
    "\n",
    "train_data['Manager_Num_Products'].fillna(train_data['Manager_Num_Products'].median(),inplace=True)\n",
    "\n",
    "train_data['Manager_Num_Products2'].fillna(train_data['Manager_Num_Products2'].median(),inplace=True)\n",
    "\n",
    "train_data['Applicant_Age'].fillna(train_data['Applicant_Age'].median(),inplace=True)\n",
    "\n",
    "train_data['Manager_Age'].fillna(train_data['Manager_Age'].median(),inplace=True)\n"
   ]
  },
  {
   "cell_type": "code",
   "execution_count": 46,
   "id": "31758a08",
   "metadata": {},
   "outputs": [
    {
     "data": {
      "text/plain": [
       "Office_PIN                     0\n",
       "Applicant_City_PIN             0\n",
       "Applicant_Gender               0\n",
       "Applicant_Marital_Status       0\n",
       "Applicant_Occupation           0\n",
       "Applicant_Qualification        0\n",
       "Manager_Joining_Designation    0\n",
       "Manager_Current_Designation    0\n",
       "Manager_Grade                  0\n",
       "Manager_Status                 0\n",
       "Manager_Gender                 0\n",
       "Manager_Num_Application        0\n",
       "Manager_Num_Coded              0\n",
       "Manager_Business               0\n",
       "Manager_Num_Products           0\n",
       "Manager_Business2              0\n",
       "Manager_Num_Products2          0\n",
       "Business_Sourced               0\n",
       "Application_Receipt_month      0\n",
       "Application_Receipt_year       0\n",
       "Applicant_Age                  0\n",
       "Manager_Age                    0\n",
       "Manager_YOP                    0\n",
       "dtype: int64"
      ]
     },
     "execution_count": 46,
     "metadata": {},
     "output_type": "execute_result"
    }
   ],
   "source": [
    "train_data.isnull().sum()"
   ]
  },
  {
   "cell_type": "code",
   "execution_count": 49,
   "id": "c7826d2d",
   "metadata": {
    "scrolled": true
   },
   "outputs": [
    {
     "data": {
      "text/plain": [
       "Office_PIN                        0\n",
       "Applicant_City_PIN               34\n",
       "Applicant_Gender                 22\n",
       "Applicant_Marital_Status         30\n",
       "Applicant_Occupation           1004\n",
       "Applicant_Qualification          44\n",
       "Manager_Joining_Designation     824\n",
       "Manager_Current_Designation     824\n",
       "Manager_Grade                   824\n",
       "Manager_Status                  824\n",
       "Manager_Gender                  824\n",
       "Manager_Num_Application         824\n",
       "Manager_Num_Coded               824\n",
       "Manager_Business                824\n",
       "Manager_Num_Products            824\n",
       "Manager_Business2               824\n",
       "Manager_Num_Products2           824\n",
       "Application_Receipt_month         0\n",
       "Application_Receipt_year          0\n",
       "Applicant_Age                    23\n",
       "Manager_Age                     824\n",
       "Manager_YOP                     824\n",
       "dtype: int64"
      ]
     },
     "execution_count": 49,
     "metadata": {},
     "output_type": "execute_result"
    }
   ],
   "source": [
    "test_copy_data.isnull().sum()"
   ]
  },
  {
   "cell_type": "code",
   "execution_count": 47,
   "id": "356335cc",
   "metadata": {},
   "outputs": [
    {
     "data": {
      "text/plain": [
       "Office_PIN                       int64\n",
       "Applicant_City_PIN             float64\n",
       "Applicant_Gender                object\n",
       "Applicant_Marital_Status        object\n",
       "Applicant_Occupation            object\n",
       "Applicant_Qualification         object\n",
       "Manager_Joining_Designation     object\n",
       "Manager_Current_Designation     object\n",
       "Manager_Grade                  float64\n",
       "Manager_Status                  object\n",
       "Manager_Gender                  object\n",
       "Manager_Num_Application        float64\n",
       "Manager_Num_Coded              float64\n",
       "Manager_Business               float64\n",
       "Manager_Num_Products           float64\n",
       "Manager_Business2              float64\n",
       "Manager_Num_Products2          float64\n",
       "Application_Receipt_month       object\n",
       "Application_Receipt_year         int64\n",
       "Applicant_Age                  float64\n",
       "Manager_Age                    float64\n",
       "Manager_YOP                    float64\n",
       "dtype: object"
      ]
     },
     "execution_count": 47,
     "metadata": {},
     "output_type": "execute_result"
    }
   ],
   "source": [
    "test_copy_data.dtypes"
   ]
  },
  {
   "cell_type": "code",
   "execution_count": 48,
   "id": "015641fb",
   "metadata": {},
   "outputs": [],
   "source": [
    "for i in cat_cols:\n",
    "    test_copy_data[i] = test_copy_data[i].astype('category')"
   ]
  },
  {
   "cell_type": "code",
   "execution_count": 50,
   "id": "a4fc2d63",
   "metadata": {},
   "outputs": [],
   "source": [
    "#Replacing missing values with mode and median of test data\n",
    "test_copy_data['Applicant_Gender'].fillna(test_copy_data['Applicant_Gender'].mode()[0],inplace=True)\n",
    "\n",
    "test_copy_data['Applicant_City_PIN'].fillna(test_copy_data['Applicant_City_PIN'].mode()[0], inplace = True)\n",
    "\n",
    "test_copy_data['Applicant_Marital_Status'].fillna(test_copy_data['Applicant_Marital_Status'].mode()[0],inplace=True)\n",
    "\n",
    "test_copy_data['Applicant_Occupation'].fillna(test_copy_data['Applicant_Occupation'].mode()[0],inplace=True)\n",
    "\n",
    "test_copy_data['Applicant_Qualification'].fillna(test_copy_data['Applicant_Qualification'].mode()[0],inplace=True)\n",
    "\n",
    "test_copy_data['Manager_Joining_Designation'].fillna(test_copy_data['Manager_Joining_Designation'].mode()[0],inplace=True)\n",
    "\n",
    "test_copy_data['Manager_Current_Designation'].fillna(test_copy_data['Manager_Current_Designation'].mode()[0],inplace=True)\n",
    "\n",
    "test_copy_data['Manager_Grade'].fillna(test_copy_data['Manager_Grade'].mode()[0],inplace=True)\n",
    "\n",
    "test_copy_data['Manager_Status'].fillna(test_copy_data['Manager_Status'].mode()[0],inplace=True)\n",
    "\n",
    "test_copy_data['Manager_Gender'].fillna(test_copy_data['Manager_Gender'].mode()[0],inplace=True)\n",
    "\n",
    "test_copy_data['Manager_Num_Coded'].fillna(test_copy_data['Manager_Num_Coded'].mode()[0],inplace=True)\n",
    "\n",
    "test_copy_data['Manager_YOP'].fillna(test_copy_data['Manager_YOP'].mode()[0],inplace=True)\n",
    "\n",
    "test_copy_data['Manager_Num_Application'].fillna(test_copy_data['Manager_Num_Application'].median(),inplace=True)\n",
    "\n",
    "test_copy_data['Manager_Business'].fillna(test_copy_data['Manager_Business'].median(),inplace=True)\n",
    "\n",
    "test_copy_data['Manager_Business2'].fillna(test_copy_data['Manager_Business2'].median(),inplace=True)\n",
    "\n",
    "test_copy_data['Manager_Num_Products'].fillna(test_copy_data['Manager_Num_Products'].median(),inplace=True)\n",
    "\n",
    "test_copy_data['Manager_Num_Products2'].fillna(test_copy_data['Manager_Num_Products2'].median(),inplace=True)\n",
    "\n",
    "test_copy_data['Applicant_Age'].fillna(test_copy_data['Applicant_Age'].median(),inplace=True)\n",
    "\n",
    "test_copy_data['Manager_Age'].fillna(test_copy_data['Manager_Age'].median(),inplace=True)"
   ]
  },
  {
   "cell_type": "code",
   "execution_count": 51,
   "id": "8a5fc47c",
   "metadata": {},
   "outputs": [
    {
     "data": {
      "text/plain": [
       "Office_PIN                     0\n",
       "Applicant_City_PIN             0\n",
       "Applicant_Gender               0\n",
       "Applicant_Marital_Status       0\n",
       "Applicant_Occupation           0\n",
       "Applicant_Qualification        0\n",
       "Manager_Joining_Designation    0\n",
       "Manager_Current_Designation    0\n",
       "Manager_Grade                  0\n",
       "Manager_Status                 0\n",
       "Manager_Gender                 0\n",
       "Manager_Num_Application        0\n",
       "Manager_Num_Coded              0\n",
       "Manager_Business               0\n",
       "Manager_Num_Products           0\n",
       "Manager_Business2              0\n",
       "Manager_Num_Products2          0\n",
       "Application_Receipt_month      0\n",
       "Application_Receipt_year       0\n",
       "Applicant_Age                  0\n",
       "Manager_Age                    0\n",
       "Manager_YOP                    0\n",
       "dtype: int64"
      ]
     },
     "execution_count": 51,
     "metadata": {},
     "output_type": "execute_result"
    }
   ],
   "source": [
    "test_copy_data.isnull().sum()"
   ]
  },
  {
   "cell_type": "markdown",
   "id": "32ea3f55",
   "metadata": {},
   "source": [
    "# Univariate Analysis of the train data"
   ]
  },
  {
   "cell_type": "code",
   "execution_count": 52,
   "id": "49c92500",
   "metadata": {},
   "outputs": [],
   "source": [
    "cont_cols = ['Manager_Num_Application','Manager_Business', 'Manager_Num_Products', 'Manager_Business2',\n",
    "       'Manager_Num_Products2',\n",
    "       'Applicant_Age', 'Manager_Age','Office_PIN', 'Applicant_City_PIN']\n",
    "\n",
    "cat_cols = ['Applicant_Gender', 'Applicant_Marital_Status', 'Applicant_Occupation',\n",
    "       'Applicant_Qualification', 'Manager_Joining_Designation',\n",
    "       'Manager_Current_Designation', 'Manager_Grade', 'Manager_Status',\n",
    "       'Manager_Gender','Manager_Num_Coded','Application_Receipt_month', 'Manager_YOP','Application_Receipt_year']"
   ]
  },
  {
   "cell_type": "code",
   "execution_count": 53,
   "id": "23b8807c",
   "metadata": {},
   "outputs": [
    {
     "data": {
      "image/png": "[encoded data removed]",
      "text/plain": [
       "<Figure size 720x576 with 1 Axes>"
      ]
     },
     "metadata": {
      "needs_background": "light"
     },
     "output_type": "display_data"
    },
    {
     "data": {
      "image/png": "[encoded data removed]",
      "text/plain": [
       "<Figure size 720x576 with 1 Axes>"
      ]
     },
     "metadata": {
      "needs_background": "light"
     },
     "output_type": "display_data"
    },
    {
     "data": {
      "image/png": "[encoded data removed]",
      "text/plain": [
       "<Figure size 720x576 with 1 Axes>"
      ]
     },
     "metadata": {
      "needs_background": "light"
     },
     "output_type": "display_data"
    },
    {
     "data": {
      "image/png": "[encoded data removed]",
      "text/plain": [
       "<Figure size 720x576 with 1 Axes>"
      ]
     },
     "metadata": {
      "needs_background": "light"
     },
     "output_type": "display_data"
    },
    {
     "data": {
      "image/png": "[encoded data removed]",
      "text/plain": [
       "<Figure size 720x576 with 1 Axes>"
      ]
     },
     "metadata": {
      "needs_background": "light"
     },
     "output_type": "display_data"
    },
    {
     "data": {
      "image/png": "[encoded data removed]",
      "text/plain": [
       "<Figure size 720x576 with 1 Axes>"
      ]
     },
     "metadata": {
      "needs_background": "light"
     },
     "output_type": "display_data"
    },
    {
     "data": {
      "image/png": "[encoded data removed]",
      "text/plain": [
       "<Figure size 720x576 with 1 Axes>"
      ]
     },
     "metadata": {
      "needs_background": "light"
     },
     "output_type": "display_data"
    },
    {
     "data": {
      "image/png": "[encoded data removed]",
      "text/plain": [
       "<Figure size 720x576 with 1 Axes>"
      ]
     },
     "metadata": {
      "needs_background": "light"
     },
     "output_type": "display_data"
    },
    {
     "data": {
      "image/png": "[encoded data removed]",
      "text/plain": [
       "<Figure size 720x576 with 1 Axes>"
      ]
     },
     "metadata": {
      "needs_background": "light"
     },
     "output_type": "display_data"
    }
   ],
   "source": [
    "#Visualizing distribution of Quantitaive variables through histogram\n",
    "for i in cont_cols:\n",
    "    train_data.hist([i],figsize=(10,8))"
   ]
  },
  {
   "cell_type": "code",
   "execution_count": 54,
   "id": "6750debc",
   "metadata": {},
   "outputs": [
    {
     "data": {
      "text/plain": [
       "4939    14.0\n",
       "3845    13.0\n",
       "4159    13.0\n",
       "699     13.0\n",
       "1154    13.0\n",
       "        ... \n",
       "2675     0.0\n",
       "6939     0.0\n",
       "6940     0.0\n",
       "6941     0.0\n",
       "2043     0.0\n",
       "Name: Manager_Num_Application, Length: 9520, dtype: float64"
      ]
     },
     "execution_count": 54,
     "metadata": {},
     "output_type": "execute_result"
    }
   ],
   "source": [
    "train_data['Manager_Num_Application'][train_data['Manager_Num_Application']<16].sort_values(ascending=False)"
   ]
  },
  {
   "cell_type": "code",
   "execution_count": 55,
   "id": "fda6c0d4",
   "metadata": {},
   "outputs": [],
   "source": [
    "train_data['Manager_Num_Application'][train_data['Manager_Num_Application']>14] = 14"
   ]
  },
  {
   "cell_type": "code",
   "execution_count": 56,
   "id": "4dab55ec",
   "metadata": {},
   "outputs": [
    {
     "data": {
      "image/png": "[encoded data removed]",
      "text/plain": [
       "<Figure size 2160x1440 with 13 Axes>"
      ]
     },
     "metadata": {
      "needs_background": "light"
     },
     "output_type": "display_data"
    }
   ],
   "source": [
    "#Visualizing the distribution of categorical variables through Bar Grapgh\n",
    "plt.figure(figsize=(30,20))\n",
    "for i,feature in enumerate(cat_cols):\n",
    "    plt.subplot(4,4,i+1)\n",
    "    sns.countplot(train_data[feature])"
   ]
  },
  {
   "cell_type": "code",
   "execution_count": 57,
   "id": "1a290b1b",
   "metadata": {},
   "outputs": [],
   "source": [
    "#Removing outliers of the categorical columns\n",
    "train_data['Applicant_Marital_Status'].replace({'W':'S','D':'S'},inplace=True)\n",
    "train_data['Applicant_Occupation'].replace({'Self Employed':'Others','Student':'Others'},inplace=True)"
   ]
  },
  {
   "cell_type": "code",
   "execution_count": 135,
   "id": "d0740d10",
   "metadata": {},
   "outputs": [
    {
     "data": {
      "text/plain": [
       "<AxesSubplot:xlabel='Applicant_Qualification', ylabel='count'>"
      ]
     },
     "execution_count": 135,
     "metadata": {},
     "output_type": "execute_result"
    },
    {
     "data": {
      "image/png": "[encoded data removed]",
      "text/plain": [
       "<Figure size 2160x1440 with 1 Axes>"
      ]
     },
     "metadata": {
      "needs_background": "light"
     },
     "output_type": "display_data"
    }
   ],
   "source": [
    "plt.figure(figsize=(30,20))\n",
    "sns.countplot(train_data['Applicant_Qualification'])"
   ]
  },
  {
   "cell_type": "code",
   "execution_count": 58,
   "id": "81850293",
   "metadata": {},
   "outputs": [],
   "source": [
    "#Removing outliers of the Applicant Qualification column\n",
    "train_data['Applicant_Qualification'].replace({'Associate/Fellow of Institute of Company Secretories of India':'Others'},inplace=True)\n",
    "train_data['Applicant_Qualification'].replace({'Associate / Fellow of Institute of Chartered Accountans of India':'Others'},inplace=True)\n",
    "train_data['Applicant_Qualification'].replace({'Associate/Fellow of Insurance Institute of India':'Others'},inplace=True)\n",
    "train_data['Applicant_Qualification'].replace({'Associate/Fellow of Acturial Society of India':'Others'},inplace=True)\n",
    "train_data['Applicant_Qualification'].replace({'Certified Associateship of Indian Institute of Bankers':'Others'},inplace=True)\n",
    "train_data['Applicant_Qualification'].replace({'Professional Qualification in Marketing':'Others'},inplace=True)"
   ]
  },
  {
   "cell_type": "markdown",
   "id": "58c8d58a",
   "metadata": {},
   "source": [
    "# Univariate Analysis of the Test Data"
   ]
  },
  {
   "cell_type": "code",
   "execution_count": 59,
   "id": "ebd090fe",
   "metadata": {},
   "outputs": [
    {
     "data": {
      "image/png": "[encoded data removed]",
      "text/plain": [
       "<Figure size 720x576 with 1 Axes>"
      ]
     },
     "metadata": {
      "needs_background": "light"
     },
     "output_type": "display_data"
    },
    {
     "data": {
      "image/png": "[encoded data removed]",
      "text/plain": [
       "<Figure size 720x576 with 1 Axes>"
      ]
     },
     "metadata": {
      "needs_background": "light"
     },
     "output_type": "display_data"
    },
    {
     "data": {
      "image/png": "[encoded data removed]",
      "text/plain": [
       "<Figure size 720x576 with 1 Axes>"
      ]
     },
     "metadata": {
      "needs_background": "light"
     },
     "output_type": "display_data"
    },
    {
     "data": {
      "image/png": "[encoded data removed]",
      "text/plain": [
       "<Figure size 720x576 with 1 Axes>"
      ]
     },
     "metadata": {
      "needs_background": "light"
     },
     "output_type": "display_data"
    },
    {
     "data": {
      "image/png": "[encoded data removed]",
      "text/plain": [
       "<Figure size 720x576 with 1 Axes>"
      ]
     },
     "metadata": {
      "needs_background": "light"
     },
     "output_type": "display_data"
    },
    {
     "data": {
      "image/png": "[encoded data removed]",
      "text/plain": [
       "<Figure size 720x576 with 1 Axes>"
      ]
     },
     "metadata": {
      "needs_background": "light"
     },
     "output_type": "display_data"
    },
    {
     "data": {
      "image/png": "[encoded data removed]",
      "text/plain": [
       "<Figure size 720x576 with 1 Axes>"
      ]
     },
     "metadata": {
      "needs_background": "light"
     },
     "output_type": "display_data"
    },
    {
     "data": {
      "image/png": "[encoded data removed]",
      "text/plain": [
       "<Figure size 720x576 with 1 Axes>"
      ]
     },
     "metadata": {
      "needs_background": "light"
     },
     "output_type": "display_data"
    },
    {
     "data": {
      "image/png": "[encoded data removed]",
      "text/plain": [
       "<Figure size 720x576 with 1 Axes>"
      ]
     },
     "metadata": {
      "needs_background": "light"
     },
     "output_type": "display_data"
    }
   ],
   "source": [
    "#Visualizing distribution of Quantitaive variables of test data through histogram\n",
    "for i in cont_cols:\n",
    "    test_copy_data.hist([i],figsize=(10,8))"
   ]
  },
  {
   "cell_type": "code",
   "execution_count": 60,
   "id": "dec21e89",
   "metadata": {},
   "outputs": [
    {
     "data": {
      "image/png": "[encoded data removed]",
      "text/plain": [
       "<Figure size 2160x1440 with 13 Axes>"
      ]
     },
     "metadata": {
      "needs_background": "light"
     },
     "output_type": "display_data"
    }
   ],
   "source": [
    "#Visualizing the distribution of categorical variables of test data  through Bar Grapgh\n",
    "plt.figure(figsize=(30,20))\n",
    "for i,feature in enumerate(cat_cols):\n",
    "    plt.subplot(4,4,i+1)\n",
    "    sns.countplot(test_copy_data[feature])"
   ]
  },
  {
   "cell_type": "code",
   "execution_count": 61,
   "id": "dd2ff54e",
   "metadata": {},
   "outputs": [],
   "source": [
    "#Removing outliers of the categorical columns\n",
    "test_copy_data['Applicant_Marital_Status'].replace({'W':'S','D':'S'},inplace=True)\n",
    "test_copy_data['Applicant_Occupation'].replace({'Self Employed':'Others','Student':'Others'},inplace=True)\n"
   ]
  },
  {
   "cell_type": "code",
   "execution_count": 62,
   "id": "fb3ae0e4",
   "metadata": {},
   "outputs": [],
   "source": [
    "test_copy_data['Applicant_Qualification'].replace({'Associate/Fellow of Institute of Company Secretories of India':'Others'},inplace=True)\n",
    "test_copy_data['Applicant_Qualification'].replace({'Associate / Fellow of Institute of Chartered Accountans of India':'Others'},inplace=True)\n",
    "test_copy_data['Applicant_Qualification'].replace({'Associate/Fellow of Insurance Institute of India':'Others'},inplace=True)\n",
    "test_copy_data['Applicant_Qualification'].replace({'Associate/Fellow of Acturial Society of India':'Others'},inplace=True)\n",
    "test_copy_data['Applicant_Qualification'].replace({'Certified Associateship of Indian Institute of Bankers':'Others'},inplace=True)\n",
    "test_copy_data['Applicant_Qualification'].replace({'Professional Qualification in Marketing':'Others'},inplace=True)\n",
    "test_copy_data['Applicant_Qualification'].replace({'Associate/Fellow of Institute of Institute of Costs and Works Accountants of India':'Others'},inplace=True)"
   ]
  },
  {
   "cell_type": "code",
   "execution_count": 63,
   "id": "54e16006",
   "metadata": {},
   "outputs": [],
   "source": [
    "#Creating bins of age\n",
    "def agefunc(age):\n",
    "    if age>=18 and age<=37:\n",
    "        return \"Young\"\n",
    "    elif age>=38 and age<=57:\n",
    "        return \"Middle Aged\"\n",
    "    else:\n",
    "        return \"Senior\"\n",
    "train_data['Applicant_Age_Bin']=train_data['Applicant_Age'].apply(agefunc)\n",
    "test_copy_data['Applicant_Age_Bin']=test_copy_data['Applicant_Age'].apply(agefunc)\n",
    "train_data['Manager_Age_Bin']=train_data['Manager_Age'].apply(agefunc)\n",
    "test_copy_data['Manager_Age_Bin']=test_copy_data['Manager_Age'].apply(agefunc)"
   ]
  },
  {
   "cell_type": "code",
   "execution_count": 64,
   "id": "308c5107",
   "metadata": {},
   "outputs": [
    {
     "data": {
      "text/plain": [
       "(Young          7097\n",
       " Middle Aged    2058\n",
       " Senior          372\n",
       " Name: Applicant_Age_Bin, dtype: int64,\n",
       " Young          3657\n",
       " Middle Aged    1159\n",
       " Senior          229\n",
       " Name: Applicant_Age_Bin, dtype: int64)"
      ]
     },
     "execution_count": 64,
     "metadata": {},
     "output_type": "execute_result"
    }
   ],
   "source": [
    "train_data['Applicant_Age_Bin'].value_counts(), test_copy_data['Applicant_Age_Bin'].value_counts()"
   ]
  },
  {
   "cell_type": "code",
   "execution_count": 65,
   "id": "e56933a2",
   "metadata": {},
   "outputs": [
    {
     "data": {
      "text/plain": [
       "(Young          6914\n",
       " Middle Aged    2608\n",
       " Senior            5\n",
       " Name: Manager_Age_Bin, dtype: int64,\n",
       " Young          4041\n",
       " Middle Aged    1004\n",
       " Name: Manager_Age_Bin, dtype: int64)"
      ]
     },
     "execution_count": 65,
     "metadata": {},
     "output_type": "execute_result"
    }
   ],
   "source": [
    "train_data['Manager_Age_Bin'].value_counts(), test_copy_data['Manager_Age_Bin'].value_counts()"
   ]
  },
  {
   "cell_type": "code",
   "execution_count": 66,
   "id": "f131e0f4",
   "metadata": {},
   "outputs": [],
   "source": [
    "train_data['Manager_Age_Bin'].replace({'Senior':'Middle Aged'},inplace=True)"
   ]
  },
  {
   "cell_type": "code",
   "execution_count": 70,
   "id": "fe47a6bf",
   "metadata": {},
   "outputs": [
    {
     "data": {
      "text/plain": [
       "((9527, 23), (5045, 22))"
      ]
     },
     "execution_count": 70,
     "metadata": {},
     "output_type": "execute_result"
    }
   ],
   "source": [
    "train_data.shape, test_copy_data.shape"
   ]
  },
  {
   "cell_type": "code",
   "execution_count": 68,
   "id": "ce498256",
   "metadata": {},
   "outputs": [],
   "source": [
    "train_data.drop(['Applicant_Age','Manager_Age'],axis=1,inplace=True)"
   ]
  },
  {
   "cell_type": "code",
   "execution_count": 69,
   "id": "de49ff9f",
   "metadata": {},
   "outputs": [],
   "source": [
    "test_copy_data.drop(['Applicant_Age','Manager_Age'],axis=1,inplace=True)"
   ]
  },
  {
   "cell_type": "code",
   "execution_count": 86,
   "id": "4f9434af",
   "metadata": {},
   "outputs": [],
   "source": [
    "cont_cols = ['Manager_Num_Application',\n",
    " 'Manager_Business',\n",
    " 'Manager_Num_Products',\n",
    " 'Manager_Business2',\n",
    " 'Manager_Num_Products2',\n",
    " 'Office_PIN',\n",
    " 'Applicant_City_PIN']\n"
   ]
  },
  {
   "cell_type": "markdown",
   "id": "0fc4e906",
   "metadata": {},
   "source": [
    "# Bivariate Analysis of predictors with the target variable"
   ]
  },
  {
   "cell_type": "code",
   "execution_count": 87,
   "id": "fd813d9a",
   "metadata": {},
   "outputs": [
    {
     "data": {
      "image/png": "[encoded data removed]",
      "text/plain": [
       "<Figure size 2160x2160 with 7 Axes>"
      ]
     },
     "metadata": {
      "needs_background": "light"
     },
     "output_type": "display_data"
    }
   ],
   "source": [
    "#Visualizing the relationship bwtween the categorical vs continuous predictors through box plot\n",
    "plt.figure(figsize=(30,30))\n",
    "for i,feature in enumerate(cont_cols):\n",
    "    plt.subplot(3,3,i+1)\n",
    "    sns.boxplot(x='Business_Sourced',y=feature,data=train_data)"
   ]
  },
  {
   "cell_type": "code",
   "execution_count": 73,
   "id": "d8e51fb8",
   "metadata": {},
   "outputs": [],
   "source": [
    "#Anova test to show the statistica strength b/w continuos predictor variables with the target varlable\n",
    "def FunctionAnova(InpData,TargetVariable,ContPredictors):\n",
    "    from scipy.stats import f_oneway\n",
    "    \n",
    "    selectedPredictors =[]\n",
    "    \n",
    "    for predictors in ContPredictors:\n",
    "        CategoryGroupList = InpData.groupby(predictors)[TargetVariable].apply(list)\n",
    "        AnovaResult = f_oneway(*CategoryGroupList)\n",
    "        \n",
    "        if(AnovaResult[1]<0.05):\n",
    "            print(predictors,'is correlated with',TargetVariable,'| P-Value:',AnovaResult[1])\n",
    "            selectedPredictors.append(predictors)\n",
    "        else:\n",
    "                print(predictors,'is correlated with',TargetVariable,'| P-Value:',AnovaResult[1])\n",
    "    return(selectedPredictors)\n",
    "        "
   ]
  },
  {
   "cell_type": "code",
   "execution_count": 74,
   "id": "085cca17",
   "metadata": {},
   "outputs": [
    {
     "name": "stdout",
     "output_type": "stream",
     "text": [
      "Manager_Num_Application is correlated with Business_Sourced | P-Value: 0.005464570225453849\n",
      "Manager_Business is correlated with Business_Sourced | P-Value: 0.0001403365267110078\n",
      "Manager_Num_Products is correlated with Business_Sourced | P-Value: 0.01765532876213676\n",
      "Manager_Business2 is correlated with Business_Sourced | P-Value: 0.00012090495664254702\n",
      "Manager_Num_Products2 is correlated with Business_Sourced | P-Value: 0.013385175517329928\n",
      "Office_PIN is correlated with Business_Sourced | P-Value: 4.7854121950323e-28\n",
      "Applicant_City_PIN is correlated with Business_Sourced | P-Value: 1.9460704664812033e-06\n"
     ]
    },
    {
     "data": {
      "text/plain": [
       "['Manager_Num_Application',\n",
       " 'Manager_Business',\n",
       " 'Manager_Num_Products',\n",
       " 'Manager_Business2',\n",
       " 'Manager_Num_Products2',\n",
       " 'Office_PIN',\n",
       " 'Applicant_City_PIN']"
      ]
     },
     "execution_count": 74,
     "metadata": {},
     "output_type": "execute_result"
    }
   ],
   "source": [
    "FunctionAnova(InpData=train_data, TargetVariable='Business_Sourced', ContPredictors=cont_cols)"
   ]
  },
  {
   "cell_type": "code",
   "execution_count": 76,
   "id": "ebc442ff",
   "metadata": {},
   "outputs": [],
   "source": [
    "cat_cols = ['Applicant_Gender',\n",
    " 'Applicant_Marital_Status',\n",
    " 'Applicant_Occupation',\n",
    " 'Applicant_Qualification',\n",
    " 'Manager_Joining_Designation',\n",
    " 'Manager_Current_Designation',\n",
    " 'Manager_Grade',\n",
    " 'Manager_Status',\n",
    " 'Manager_Gender',\n",
    " 'Manager_Num_Coded',\n",
    " 'Application_Receipt_month',\n",
    " 'Manager_YOP',\n",
    " 'Application_Receipt_year','Applicant_Age_Bin','Manager_Age_Bin' ]"
   ]
  },
  {
   "cell_type": "code",
   "execution_count": 274,
   "id": "2da527ba",
   "metadata": {
    "scrolled": true
   },
   "outputs": [
    {
     "data": {
      "text/plain": [
       "(9527, 23)"
      ]
     },
     "execution_count": 274,
     "metadata": {},
     "output_type": "execute_result"
    }
   ],
   "source": [
    "train_data.shape"
   ]
  },
  {
   "cell_type": "code",
   "execution_count": 88,
   "id": "063e6824",
   "metadata": {},
   "outputs": [
    {
     "data": {
      "image/png": "[encoded data removed]",
      "text/plain": [
       "<Figure size 720x2160 with 15 Axes>"
      ]
     },
     "metadata": {
      "needs_background": "light"
     },
     "output_type": "display_data"
    }
   ],
   "source": [
    "#Visualizing the relationship between the categorical vs categorical predictors using Grouped Var Charts\n",
    "fig,plotCanvas = plt.subplots(nrows=len(cat_cols),ncols=1, figsize=(10,30))\n",
    "\n",
    "for categoricalcols,i in zip(cat_cols,range(len(cat_cols))):\n",
    "    CrossTabResult=pd.crosstab(index=train_data[categoricalcols], columns=train_data['Business_Sourced'])\n",
    "    CrossTabResult.plot.bar(color=['red','green'], ax=plotCanvas[i], title=categoricalcols+' Vs '+'Business_Sourced')"
   ]
  },
  {
   "cell_type": "code",
   "execution_count": 77,
   "id": "5231266b",
   "metadata": {},
   "outputs": [],
   "source": [
    "#Chi sq test to show the statistical strength b/w the categorical predictors with the target variable\n",
    "def chisqTest(targetVariable,predictorvariables,inpData):\n",
    "    from scipy.stats import chi2_contingency\n",
    "    \n",
    "    #Creating empty list\n",
    "    selectedPredictors=[]\n",
    "    \n",
    "    print('## Chisq Test ##')\n",
    "    for predictors in predictorvariables:\n",
    "        crossTab = pd.crosstab(index=inpData[targetVariable],columns=inpData[predictors])\n",
    "        crossTabResult = chi2_contingency(crossTab)\n",
    "        \n",
    "        #if P-Value is less than 0.05 we will reject the H0\n",
    "        if(crossTabResult[1]<0.05):\n",
    "            print(predictors,'is corelated with the',targetVariable,'| P-Value:',crossTabResult[1])\n",
    "            selectedPredictors.append(predictors)\n",
    "        else:\n",
    "            print(predictors,'is not corelated with the',targetVariable,'| P-Value:',crossTabResult[1])\n",
    "    return(selectedPredictors)"
   ]
  },
  {
   "cell_type": "code",
   "execution_count": 78,
   "id": "148a719c",
   "metadata": {},
   "outputs": [
    {
     "name": "stdout",
     "output_type": "stream",
     "text": [
      "## Chisq Test ##\n",
      "Applicant_Gender is corelated with the Business_Sourced | P-Value: 1.1125399107175522e-06\n",
      "Applicant_Marital_Status is not corelated with the Business_Sourced | P-Value: 0.5778356188939744\n",
      "Applicant_Occupation is not corelated with the Business_Sourced | P-Value: 0.6646815369074905\n",
      "Applicant_Qualification is corelated with the Business_Sourced | P-Value: 6.283223670309604e-07\n",
      "Manager_Joining_Designation is corelated with the Business_Sourced | P-Value: 3.0058065987450532e-06\n",
      "Manager_Current_Designation is corelated with the Business_Sourced | P-Value: 1.050593250285465e-06\n",
      "Manager_Grade is corelated with the Business_Sourced | P-Value: 1.7001862285582955e-05\n",
      "Manager_Status is corelated with the Business_Sourced | P-Value: 3.848293555146792e-05\n",
      "Manager_Gender is corelated with the Business_Sourced | P-Value: 0.0014777314571216876\n",
      "Manager_Num_Coded is not corelated with the Business_Sourced | P-Value: 0.6523531884571652\n",
      "Application_Receipt_month is corelated with the Business_Sourced | P-Value: 2.3158112251013005e-07\n",
      "Manager_YOP is corelated with the Business_Sourced | P-Value: 5.607288088967795e-08\n",
      "Application_Receipt_year is corelated with the Business_Sourced | P-Value: 7.58947796841791e-05\n",
      "Applicant_Age_Bin is corelated with the Business_Sourced | P-Value: 1.816608756036591e-11\n",
      "Manager_Age_Bin is not corelated with the Business_Sourced | P-Value: 0.21825596375033662\n"
     ]
    },
    {
     "data": {
      "text/plain": [
       "['Applicant_Gender',\n",
       " 'Applicant_Qualification',\n",
       " 'Manager_Joining_Designation',\n",
       " 'Manager_Current_Designation',\n",
       " 'Manager_Grade',\n",
       " 'Manager_Status',\n",
       " 'Manager_Gender',\n",
       " 'Application_Receipt_month',\n",
       " 'Manager_YOP',\n",
       " 'Application_Receipt_year',\n",
       " 'Applicant_Age_Bin']"
      ]
     },
     "execution_count": 78,
     "metadata": {},
     "output_type": "execute_result"
    }
   ],
   "source": [
    "chisqTest(targetVariable='Business_Sourced',predictorvariables=cat_cols, inpData=train_data)"
   ]
  },
  {
   "cell_type": "code",
   "execution_count": 81,
   "id": "7e2f7dec",
   "metadata": {},
   "outputs": [],
   "source": [
    "selectedPredictors = ['Manager_Num_Application',\n",
    " 'Manager_Business',\n",
    " 'Manager_Num_Products',\n",
    " 'Manager_Business2',\n",
    " 'Manager_Num_Products2',\n",
    " 'Office_PIN',\n",
    " 'Applicant_City_PIN','Applicant_Gender',\n",
    " 'Applicant_Qualification',\n",
    " 'Manager_Joining_Designation',\n",
    " 'Manager_Current_Designation',\n",
    " 'Manager_Grade',\n",
    " 'Manager_Status',\n",
    " 'Manager_Gender',\n",
    " 'Application_Receipt_month',\n",
    " 'Manager_YOP',\n",
    " 'Application_Receipt_year',\n",
    " 'Applicant_Age_Bin']"
   ]
  },
  {
   "cell_type": "code",
   "execution_count": 82,
   "id": "e19d9290",
   "metadata": {},
   "outputs": [],
   "source": [
    "DataForML = train_data[selectedPredictors]"
   ]
  },
  {
   "cell_type": "code",
   "execution_count": 83,
   "id": "c742145b",
   "metadata": {
    "scrolled": true
   },
   "outputs": [
    {
     "data": {
      "text/plain": [
       "(9527, 18)"
      ]
     },
     "execution_count": 83,
     "metadata": {},
     "output_type": "execute_result"
    }
   ],
   "source": [
    "DataForML.head()\n",
    "\n",
    "DataForML.shape"
   ]
  },
  {
   "cell_type": "code",
   "execution_count": 282,
   "id": "08104582",
   "metadata": {
    "scrolled": false
   },
   "outputs": [
    {
     "data": {
      "text/plain": [
       "Index(['Manager_Num_Application', 'Manager_Business', 'Manager_Num_Products',\n",
       "       'Manager_Business2', 'Manager_Num_Products2', 'Office_PIN',\n",
       "       'Applicant_City_PIN', 'Applicant_Gender', 'Applicant_Qualification',\n",
       "       'Manager_Joining_Designation', 'Manager_Current_Designation',\n",
       "       'Manager_Grade', 'Manager_Status', 'Manager_Gender',\n",
       "       'Application_Receipt_month', 'Manager_YOP', 'Application_Receipt_year',\n",
       "       'Applicant_Age_Bin', 'Applicant_Age_Bin'],\n",
       "      dtype='object')"
      ]
     },
     "execution_count": 282,
     "metadata": {},
     "output_type": "execute_result"
    }
   ],
   "source": [
    "DataForML.columns"
   ]
  },
  {
   "cell_type": "code",
   "execution_count": 84,
   "id": "cbad2f79",
   "metadata": {},
   "outputs": [
    {
     "data": {
      "text/plain": [
       "[2.0, 1.0, 4.0, 3.0, 5.0, 0.0, 6.0, 7.0]\n",
       "Categories (8, float64): [2.0, 1.0, 4.0, 3.0, 5.0, 0.0, 6.0, 7.0]"
      ]
     },
     "execution_count": 84,
     "metadata": {},
     "output_type": "execute_result"
    }
   ],
   "source": [
    "DataForML['Manager_YOP'].unique()"
   ]
  },
  {
   "cell_type": "code",
   "execution_count": 85,
   "id": "3c5e4c5a",
   "metadata": {
    "scrolled": true
   },
   "outputs": [
    {
     "data": {
      "text/plain": [
       "[0.0, 1.0, 3.0, 2.0, 4.0, 5.0, 6.0, 7.0, 8.0]\n",
       "Categories (9, float64): [0.0, 1.0, 3.0, 2.0, ..., 5.0, 6.0, 7.0, 8.0]"
      ]
     },
     "execution_count": 85,
     "metadata": {},
     "output_type": "execute_result"
    }
   ],
   "source": [
    "test_copy_data['Manager_YOP'].unique()"
   ]
  },
  {
   "cell_type": "code",
   "execution_count": null,
   "id": "a5e6550e",
   "metadata": {},
   "outputs": [],
   "source": [
    "delete_columns =['Applicant_Marital_Status','Applicant_Occupation','Manager_Num_Coded','Manager_Age_Bin']\n",
    "for i in delete_columns:\n",
    "    test_copy_data.drop(i,axis=1,inplace=True)"
   ]
  },
  {
   "cell_type": "code",
   "execution_count": 97,
   "id": "00ee7df6",
   "metadata": {},
   "outputs": [],
   "source": [
    "#One hot encoding\n",
    "DataForML['Applicant_Gender'].replace({'M':0,\"F\":1},inplace=True)\n",
    "DataForML['Manager_Gender'].replace({'M':0,\"F\":1},inplace=True)\n",
    "DataForML['Manager_Status'].replace({'Confirmation':1,'Probation':0},inplace=True)\n",
    "\n",
    "DataForML['Manager_Grade'].replace({1.0:1,2.0:2,3.0:3,4.0:4,5.0:5,6.0:6,7.0:7,8.0:8,9.0:9,10.0:10},inplace=True)\n",
    "DataForML['Application_Receipt_month'].replace({'Jan':1,'Feb':2,'Mar':3,'Apr':4,'May':5,'Jun':6,\n",
    "                                                     'Jul':7,'Aug':8,'Sep':9,'Oct':10,'Nov':11,'Dec':12},inplace=True)\n",
    "DataForML['Application_Receipt_year'].replace({2007:0,2008:1},inplace=True)\n",
    "\n",
    "\n",
    "\n",
    "################----------------------------------------------------------------#############################\n",
    "\n",
    "#Test Data Label encoding\n",
    "test_copy_data['Applicant_Gender'].replace({'M':0,\"F\":1},inplace=True)\n",
    "test_copy_data['Manager_Gender'].replace({'M':0,\"F\":1},inplace=True)\n",
    "test_copy_data['Manager_Status'].replace({'Confirmation':1,'Probation':0},inplace=True)\n",
    "\n",
    "test_copy_data['Manager_Grade'].replace({2.0:2,3.0:3,4.0:4,5.0:5,7.0:7,8.0:8},inplace=True)\n",
    "test_copy_data['Application_Receipt_month'].replace({'Jan':1,'Jul':7,'Aug':8,'Sep':9,'Oct':10,'Nov':11,'Dec':12},inplace=True)\n",
    "test_copy_data['Application_Receipt_year'].replace({2008:1,2009:0},inplace=True)\n",
    "test_copy_data['Manager_YOP'].replace({8.0:7.0},inplace=True)"
   ]
  },
  {
   "cell_type": "code",
   "execution_count": 98,
   "id": "685f2cd5",
   "metadata": {},
   "outputs": [],
   "source": [
    "#Label Encoding\n",
    "DataForML['Applicant_Qualification'].replace({'Others':0,'Class X':1,'Class XII':2,'Graduate':3,\n",
    "                                              'Masters of Business Administration':4},inplace=True)\n",
    "\n",
    "DataForML['Manager_Joining_Designation'].replace({'Level 1':1,'Level 2':2,'Level 3':3,'Level 4':4,'Level 5':5, 'Level 6':6,\n",
    "                                                 'Level 7':7, 'Other':0},inplace=True)\n",
    "\n",
    "DataForML['Manager_Current_Designation'].replace({'Level 1':1,'Level 2':2,'Level 3':3,'Level 4':4,'Level 5':5},inplace=True)\n",
    "\n",
    "\n",
    "########################----------------------------------------------------######################\n",
    "\n",
    "#Test Data Label Encoding\n",
    "test_copy_data['Applicant_Qualification'].replace({'Others':0,'Class X':1,'Class XII':2,'Graduate':3,\n",
    "                                              'Masters of Business Administration':4},inplace=True)\n",
    "\n",
    "test_copy_data['Manager_Joining_Designation'].replace({'Level 1':1,'Level 2':2,'Level 3':3,'Level 4':4,'Level 5':5, 'Level 6':6},inplace=True)\n",
    "\n",
    "test_copy_data['Manager_Current_Designation'].replace({'Level 1':1,'Level 2':2,'Level 3':3,'Level 4':4,'Level 5':5},inplace=True)"
   ]
  },
  {
   "cell_type": "code",
   "execution_count": 73,
   "id": "56f41c77",
   "metadata": {},
   "outputs": [
    {
     "data": {
      "text/html": [
       "<div>\n",
       "<style scoped>\n",
       "    .dataframe tbody tr th:only-of-type {\n",
       "        vertical-align: middle;\n",
       "    }\n",
       "\n",
       "    .dataframe tbody tr th {\n",
       "        vertical-align: top;\n",
       "    }\n",
       "\n",
       "    .dataframe thead th {\n",
       "        text-align: right;\n",
       "    }\n",
       "</style>\n",
       "<table border=\"1\" class=\"dataframe\">\n",
       "  <thead>\n",
       "    <tr style=\"text-align: right;\">\n",
       "      <th></th>\n",
       "      <th>Manager_Num_Application</th>\n",
       "      <th>Manager_Business</th>\n",
       "      <th>Manager_Num_Products</th>\n",
       "      <th>Manager_Business2</th>\n",
       "      <th>Manager_Num_Products2</th>\n",
       "      <th>Applicant_Age</th>\n",
       "      <th>Manager_Age</th>\n",
       "      <th>Applicant_Gender</th>\n",
       "      <th>Applicant_Qualification</th>\n",
       "      <th>Manager_Joining_Designation</th>\n",
       "      <th>Manager_Current_Designation</th>\n",
       "      <th>Manager_Grade</th>\n",
       "      <th>Manager_Status</th>\n",
       "      <th>Manager_Gender</th>\n",
       "      <th>Application_Receipt_month</th>\n",
       "      <th>Manager_YOP</th>\n",
       "      <th>Application_Receipt_year</th>\n",
       "    </tr>\n",
       "  </thead>\n",
       "  <tbody>\n",
       "    <tr>\n",
       "      <th>0</th>\n",
       "      <td>2.0</td>\n",
       "      <td>335249.0</td>\n",
       "      <td>28.0</td>\n",
       "      <td>335249.0</td>\n",
       "      <td>28.0</td>\n",
       "      <td>50</td>\n",
       "      <td>43</td>\n",
       "      <td>0</td>\n",
       "      <td>3</td>\n",
       "      <td>1</td>\n",
       "      <td>2</td>\n",
       "      <td>3.0</td>\n",
       "      <td>1</td>\n",
       "      <td>0</td>\n",
       "      <td>Apr</td>\n",
       "      <td>16</td>\n",
       "      <td>2007</td>\n",
       "    </tr>\n",
       "    <tr>\n",
       "      <th>1</th>\n",
       "      <td>2.0</td>\n",
       "      <td>335249.0</td>\n",
       "      <td>28.0</td>\n",
       "      <td>335249.0</td>\n",
       "      <td>28.0</td>\n",
       "      <td>38</td>\n",
       "      <td>43</td>\n",
       "      <td>0</td>\n",
       "      <td>2</td>\n",
       "      <td>1</td>\n",
       "      <td>2</td>\n",
       "      <td>3.0</td>\n",
       "      <td>1</td>\n",
       "      <td>0</td>\n",
       "      <td>Apr</td>\n",
       "      <td>16</td>\n",
       "      <td>2007</td>\n",
       "    </tr>\n",
       "    <tr>\n",
       "      <th>2</th>\n",
       "      <td>0.0</td>\n",
       "      <td>357184.0</td>\n",
       "      <td>24.0</td>\n",
       "      <td>357184.0</td>\n",
       "      <td>24.0</td>\n",
       "      <td>55</td>\n",
       "      <td>52</td>\n",
       "      <td>0</td>\n",
       "      <td>2</td>\n",
       "      <td>1</td>\n",
       "      <td>1</td>\n",
       "      <td>2.0</td>\n",
       "      <td>1</td>\n",
       "      <td>0</td>\n",
       "      <td>Apr</td>\n",
       "      <td>15</td>\n",
       "      <td>2007</td>\n",
       "    </tr>\n",
       "    <tr>\n",
       "      <th>3</th>\n",
       "      <td>0.0</td>\n",
       "      <td>318356.0</td>\n",
       "      <td>22.0</td>\n",
       "      <td>318356.0</td>\n",
       "      <td>22.0</td>\n",
       "      <td>33</td>\n",
       "      <td>43</td>\n",
       "      <td>0</td>\n",
       "      <td>2</td>\n",
       "      <td>1</td>\n",
       "      <td>3</td>\n",
       "      <td>4.0</td>\n",
       "      <td>1</td>\n",
       "      <td>1</td>\n",
       "      <td>Apr</td>\n",
       "      <td>18</td>\n",
       "      <td>2007</td>\n",
       "    </tr>\n",
       "    <tr>\n",
       "      <th>4</th>\n",
       "      <td>2.0</td>\n",
       "      <td>230402.0</td>\n",
       "      <td>17.0</td>\n",
       "      <td>230402.0</td>\n",
       "      <td>17.0</td>\n",
       "      <td>36</td>\n",
       "      <td>50</td>\n",
       "      <td>0</td>\n",
       "      <td>2</td>\n",
       "      <td>1</td>\n",
       "      <td>1</td>\n",
       "      <td>2.0</td>\n",
       "      <td>1</td>\n",
       "      <td>0</td>\n",
       "      <td>Apr</td>\n",
       "      <td>15</td>\n",
       "      <td>2007</td>\n",
       "    </tr>\n",
       "  </tbody>\n",
       "</table>\n",
       "</div>"
      ],
      "text/plain": [
       "   Manager_Num_Application  Manager_Business  Manager_Num_Products  \\\n",
       "0                      2.0          335249.0                  28.0   \n",
       "1                      2.0          335249.0                  28.0   \n",
       "2                      0.0          357184.0                  24.0   \n",
       "3                      0.0          318356.0                  22.0   \n",
       "4                      2.0          230402.0                  17.0   \n",
       "\n",
       "   Manager_Business2  Manager_Num_Products2  Applicant_Age  Manager_Age  \\\n",
       "0           335249.0                   28.0             50           43   \n",
       "1           335249.0                   28.0             38           43   \n",
       "2           357184.0                   24.0             55           52   \n",
       "3           318356.0                   22.0             33           43   \n",
       "4           230402.0                   17.0             36           50   \n",
       "\n",
       "   Applicant_Gender  Applicant_Qualification  Manager_Joining_Designation  \\\n",
       "0                 0                        3                            1   \n",
       "1                 0                        2                            1   \n",
       "2                 0                        2                            1   \n",
       "3                 0                        2                            1   \n",
       "4                 0                        2                            1   \n",
       "\n",
       "   Manager_Current_Designation Manager_Grade  Manager_Status  Manager_Gender  \\\n",
       "0                            2           3.0               1               0   \n",
       "1                            2           3.0               1               0   \n",
       "2                            1           2.0               1               0   \n",
       "3                            3           4.0               1               1   \n",
       "4                            1           2.0               1               0   \n",
       "\n",
       "  Application_Receipt_month Manager_YOP Application_Receipt_year  \n",
       "0                       Apr          16                     2007  \n",
       "1                       Apr          16                     2007  \n",
       "2                       Apr          15                     2007  \n",
       "3                       Apr          18                     2007  \n",
       "4                       Apr          15                     2007  "
      ]
     },
     "execution_count": 73,
     "metadata": {},
     "output_type": "execute_result"
    }
   ],
   "source": [
    "DataForML.head()"
   ]
  },
  {
   "cell_type": "code",
   "execution_count": 99,
   "id": "67781bee",
   "metadata": {},
   "outputs": [],
   "source": [
    "#Creating dummies of the train data\n",
    "DataForML_Numeric = pd.get_dummies(DataForML, columns=['Manager_YOP','Applicant_Age_Bin'])"
   ]
  },
  {
   "cell_type": "code",
   "execution_count": 100,
   "id": "8f96ffc7",
   "metadata": {},
   "outputs": [],
   "source": [
    "#Creating dummies of the test data\n",
    "test_copy_data = pd.get_dummies(test_copy_data, columns=['Manager_YOP','Applicant_Age_Bin'])"
   ]
  },
  {
   "cell_type": "code",
   "execution_count": 101,
   "id": "579a3a99",
   "metadata": {},
   "outputs": [
    {
     "data": {
      "text/plain": [
       "(9527, 27)"
      ]
     },
     "execution_count": 101,
     "metadata": {},
     "output_type": "execute_result"
    }
   ],
   "source": [
    "DataForML_Numeric.shape"
   ]
  },
  {
   "cell_type": "code",
   "execution_count": 102,
   "id": "993e0b7d",
   "metadata": {},
   "outputs": [
    {
     "data": {
      "text/plain": [
       "(9527, 28)"
      ]
     },
     "execution_count": 102,
     "metadata": {},
     "output_type": "execute_result"
    }
   ],
   "source": [
    "DataForML_Numeric['Business_Sourced'] = train_data['Business_Sourced']\n",
    "\n",
    "DataForML_Numeric.shape"
   ]
  },
  {
   "cell_type": "code",
   "execution_count": 104,
   "id": "34c9ec73",
   "metadata": {
    "scrolled": true
   },
   "outputs": [
    {
     "data": {
      "text/plain": [
       "Index(['Manager_Num_Application', 'Manager_Business', 'Manager_Num_Products',\n",
       "       'Manager_Business2', 'Manager_Num_Products2', 'Office_PIN',\n",
       "       'Applicant_City_PIN', 'Applicant_Gender', 'Applicant_Qualification',\n",
       "       'Manager_Joining_Designation', 'Manager_Current_Designation',\n",
       "       'Manager_Grade', 'Manager_Status', 'Manager_Gender',\n",
       "       'Application_Receipt_month', 'Application_Receipt_year',\n",
       "       'Manager_YOP_0.0', 'Manager_YOP_1.0', 'Manager_YOP_2.0',\n",
       "       'Manager_YOP_3.0', 'Manager_YOP_4.0', 'Manager_YOP_5.0',\n",
       "       'Manager_YOP_6.0', 'Manager_YOP_7.0', 'Applicant_Age_Bin_Middle Aged',\n",
       "       'Applicant_Age_Bin_Senior', 'Applicant_Age_Bin_Young',\n",
       "       'Business_Sourced'],\n",
       "      dtype='object')"
      ]
     },
     "execution_count": 104,
     "metadata": {},
     "output_type": "execute_result"
    }
   ],
   "source": [
    "DataForML_Numeric.columns"
   ]
  },
  {
   "cell_type": "code",
   "execution_count": 103,
   "id": "01f49b27",
   "metadata": {},
   "outputs": [
    {
     "data": {
      "text/plain": [
       "(9527, 28)"
      ]
     },
     "execution_count": 103,
     "metadata": {},
     "output_type": "execute_result"
    }
   ],
   "source": [
    "DataForML_Numeric.shape"
   ]
  },
  {
   "cell_type": "code",
   "execution_count": 184,
   "id": "3ea49b47",
   "metadata": {},
   "outputs": [
    {
     "data": {
      "text/plain": [
       "Index(['Applicant_Gender', 'Applicant_Qualification',\n",
       "       'Manager_Joining_Designation', 'Manager_Current_Designation',\n",
       "       'Manager_Grade', 'Manager_Status', 'Manager_Gender',\n",
       "       'Manager_Num_Application', 'Manager_Business', 'Manager_Num_Products',\n",
       "       'Manager_Business2', 'Manager_Num_Products2',\n",
       "       'Application_Receipt_month', 'Application_Receipt_year',\n",
       "       'Applicant_Age', 'Manager_Age', 'Manager_YOP_0.0', 'Manager_YOP_1.0',\n",
       "       'Manager_YOP_2.0', 'Manager_YOP_3.0', 'Manager_YOP_4.0',\n",
       "       'Manager_YOP_5.0', 'Manager_YOP_6.0', 'Manager_YOP_7.0',\n",
       "       'Manager_YOP_8.0'],\n",
       "      dtype='object')"
      ]
     },
     "execution_count": 184,
     "metadata": {},
     "output_type": "execute_result"
    }
   ],
   "source": [
    "test_copy_data.columns"
   ]
  },
  {
   "cell_type": "code",
   "execution_count": null,
   "id": "c22c89f2",
   "metadata": {},
   "outputs": [],
   "source": []
  },
  {
   "cell_type": "code",
   "execution_count": 105,
   "id": "60fc0de4",
   "metadata": {},
   "outputs": [],
   "source": [
    "targetvariable = 'Business_Sourced'\n",
    "predictors = ['Manager_Num_Application', 'Manager_Business', 'Manager_Num_Products',\n",
    "       'Manager_Business2', 'Manager_Num_Products2', 'Office_PIN',\n",
    "       'Applicant_City_PIN', 'Applicant_Gender', 'Applicant_Qualification',\n",
    "       'Manager_Joining_Designation', 'Manager_Current_Designation',\n",
    "       'Manager_Grade', 'Manager_Status', 'Manager_Gender',\n",
    "       'Application_Receipt_month', 'Application_Receipt_year',\n",
    "       'Manager_YOP_0.0', 'Manager_YOP_1.0', 'Manager_YOP_2.0',\n",
    "       'Manager_YOP_3.0', 'Manager_YOP_4.0', 'Manager_YOP_5.0',\n",
    "       'Manager_YOP_6.0', 'Manager_YOP_7.0', 'Applicant_Age_Bin_Middle Aged',\n",
    "       'Applicant_Age_Bin_Senior', 'Applicant_Age_Bin_Young']"
   ]
  },
  {
   "cell_type": "code",
   "execution_count": 106,
   "id": "72f34ee2",
   "metadata": {},
   "outputs": [],
   "source": [
    "x = DataForML_Numeric[predictors].values\n",
    "y = DataForML_Numeric[targetvariable].values\n",
    "\n",
    "#from sklearn.model_selection import train_test_split\n",
    "#x_train,x_test,y_train,y_test = train_test_split(x, y ,test_size=0.3,random_state=26)\n",
    "\n",
    "\n"
   ]
  },
  {
   "cell_type": "code",
   "execution_count": 107,
   "id": "175e758a",
   "metadata": {},
   "outputs": [],
   "source": [
    "### Sandardization of data ###\n",
    "from sklearn.preprocessing import StandardScaler, MinMaxScaler\n",
    "# Choose either standardization or Normalization\n",
    "# On this data Min Max Normalization produced better results\n",
    "\n",
    "# Choose between standardization and MinMAx normalization\n",
    "#PredictorScaler=StandardScaler()\n",
    "PredictorScaler=MinMaxScaler()\n",
    "\n",
    "# Storing the fit object for later reference\n",
    "PredictorScalerFit=PredictorScaler.fit(x)\n",
    "\n",
    "# Generating the standardized values of X\n",
    "X=PredictorScalerFit.transform(x)\n",
    "\n",
    "# Split the data into training and testing set\n",
    "from sklearn.model_selection import train_test_split\n",
    "x_train, x_test, y_train, y_test = train_test_split(x, y, test_size=0.3, random_state=42)"
   ]
  },
  {
   "cell_type": "code",
   "execution_count": 103,
   "id": "61e1a60d",
   "metadata": {},
   "outputs": [],
   "source": [
    "x = DataForML_Numeric.drop('Business_Sourced',axis=1)\n",
    "y = DataForML_Numeric['Business_Sourced']"
   ]
  },
  {
   "cell_type": "code",
   "execution_count": 118,
   "id": "6a5d2dbb",
   "metadata": {},
   "outputs": [
    {
     "name": "stdout",
     "output_type": "stream",
     "text": [
      "(5411, 24)\n",
      "(2319, 24)\n",
      "(5411,)\n",
      "(2319,)\n"
     ]
    }
   ],
   "source": [
    "print(x_train.shape)\n",
    "print(x_test.shape)\n",
    "print(y_train.shape)\n",
    "print(y_test.shape)\n"
   ]
  },
  {
   "cell_type": "code",
   "execution_count": 104,
   "id": "a0a22250",
   "metadata": {
    "scrolled": true
   },
   "outputs": [
    {
     "name": "stdout",
     "output_type": "stream",
     "text": [
      "0.9966041397153945\n",
      "ROC AUC Score (0.7426327708235744, 'Random_forest')\n",
      "0.9966041397153945\n",
      "ROC AUC Score (0.7371737886811787, 'Decision_tree')\n",
      "0.6507115135834411\n",
      "ROC AUC Score (0.7073526052313794, 'logistic_regression')\n",
      "0.7336675291073739\n",
      "ROC AUC Score (0.7191082550402812, 'knn')\n"
     ]
    }
   ],
   "source": [
    "from sklearn.model_selection import KFold\n",
    "from sklearn.ensemble import RandomForestClassifier\n",
    "from sklearn.tree import DecisionTreeClassifier\n",
    "from sklearn.linear_model import LogisticRegression\n",
    "from sklearn.neighbors import KNeighborsClassifier\n",
    "from sklearn.metrics import roc_auc_score\n",
    "rf=RandomForestClassifier()\n",
    "lr=LogisticRegression()\n",
    "dt=DecisionTreeClassifier()\n",
    "knn=KNeighborsClassifier()\n",
    "kf=KFold(n_splits=5,shuffle=True,random_state=0)\n",
    "for model,name in zip([rf,dt,lr,knn],['Random_forest',\"Decision_tree\",\"logistic_regression\",\"knn\"]):\n",
    "    roc_auc=[]\n",
    "    for train_idx,test_idx in kf.split(x,y):#indexes of test and train willbe stored\n",
    "        Xtrain,Xtest=x.iloc[train_idx,:],x.iloc[test_idx,:]\n",
    "        Ytrain,Ytest=y.iloc[train_idx],y.iloc[test_idx]\n",
    "        model.fit(Xtrain,Ytrain)\n",
    "        Y_predict=model.predict(Xtest)\n",
    "        #cm=metrics.confusion_matrix(Ytest,Y_predict)\n",
    "        mse=roc_auc_score(Ytest,Y_predict)\n",
    "        roc_auc.append(np.sqrt(mse))\n",
    "    print(model.score(Xtrain,Ytrain))\n",
    "    print('ROC AUC Score',(np.mean(roc_auc),name))"
   ]
  },
  {
   "cell_type": "markdown",
   "id": "0b5b17a8",
   "metadata": {},
   "source": [
    "# Logistic Regression"
   ]
  },
  {
   "cell_type": "code",
   "execution_count": 111,
   "id": "5bc520e6",
   "metadata": {},
   "outputs": [
    {
     "name": "stdout",
     "output_type": "stream",
     "text": [
      "0.5061338000975479\n",
      "0.5063670299563944\n"
     ]
    }
   ],
   "source": [
    "from sklearn.linear_model import LogisticRegression\n",
    "\n",
    "dt_model = LogisticRegression(C=9,penalty='l2',solver='newton-cg',random_state=787)\n",
    "                       \n",
    "\n",
    "from sklearn.metrics import f1_score,roc_auc_score\n",
    "# fitting the model\n",
    "dt_model.fit(x_train, y_train)\n",
    "\n",
    "# make training prediction\n",
    "train_yhat = dt_model.predict(x_train)\n",
    "train_score = roc_auc_score(y_train, train_yhat)\n",
    "\n",
    "# make test prediction\n",
    "test_yhat = dt_model.predict(x_test)\n",
    "test_score = roc_auc_score(y_test, test_yhat)\n",
    "\n",
    "print(train_score)\n",
    "print(test_score)"
   ]
  },
  {
   "cell_type": "markdown",
   "id": "d1dbf599",
   "metadata": {},
   "source": [
    "# Random Forest"
   ]
  },
  {
   "cell_type": "code",
   "execution_count": 402,
   "id": "392b4df9",
   "metadata": {},
   "outputs": [
    {
     "name": "stdout",
     "output_type": "stream",
     "text": [
      "0.7147291180931191\n",
      "0.5899043840356267\n",
      "           ID  Business_Sourced\n",
      "0  FIN1009528          0.531139\n",
      "1  FIN1009529          0.527245\n",
      "2  FIN1009530          0.523420\n",
      "3  FIN1009531          0.527243\n",
      "4  FIN1009532          0.384896\n",
      "              ID  Business_Sourced\n",
      "5040  FIN1014568          0.559611\n",
      "5041  FIN1014569          0.587394\n",
      "5042  FIN1014570          0.498671\n",
      "5043  FIN1014571          0.409499\n",
      "5044  FIN1014572          0.531484\n"
     ]
    }
   ],
   "source": [
    "from sklearn.ensemble import RandomForestClassifier\n",
    "\n",
    "dt_model = RandomForestClassifier(class_weight='balanced', criterion='entropy',\n",
    "                       max_depth=15, max_features='log2', max_leaf_nodes=97,\n",
    "                       min_samples_split=67, n_estimators=200, random_state=10)\n",
    "                       \n",
    "\n",
    "from sklearn.metrics import f1_score,roc_auc_score\n",
    "# fitting the model\n",
    "dt_model.fit(x_train, y_train)\n",
    "\n",
    "# make training prediction\n",
    "train_yhat = dt_model.predict(x_train)\n",
    "train_score = roc_auc_score(y_train, train_yhat)\n",
    "\n",
    "# make test prediction\n",
    "test_yhat = dt_model.predict(x_test)\n",
    "test_score = roc_auc_score(y_test, test_yhat)\n",
    "\n",
    "print(train_score)\n",
    "print(test_score)\n",
    "\n",
    "test_copy_data['Business_Sourced']=dt_model.predict_proba(test_copy_data[predictors])[:, 1]\n",
    "test_copy_data['ID']=test_data['ID']\n",
    "\n",
    "Random_Forest_3 = test_copy_data[['ID','Business_Sourced']]\n",
    "\n",
    "print(Random_Forest_3.head())\n",
    "print(Random_Forest_3.tail())\n",
    "\n",
    "Random_Forest_3.to_csv('C:\\\\Users\\\\ashi.goel\\\\Downloads\\\\Capestone Project\\\\Random_Forest_3.csv',index=False)\n",
    "\n"
   ]
  },
  {
   "cell_type": "code",
   "execution_count": 118,
   "id": "ccb76a4f",
   "metadata": {},
   "outputs": [
    {
     "name": "stdout",
     "output_type": "stream",
     "text": [
      "0.7123413637614519\n",
      "0.5934708813368771\n",
      "           ID  Business_Sourced\n",
      "0  FIN1009528          0.436097\n",
      "1  FIN1009529          0.539860\n",
      "2  FIN1009530          0.513372\n",
      "3  FIN1009531          0.517060\n",
      "4  FIN1009532          0.441108\n",
      "              ID  Business_Sourced\n",
      "5040  FIN1014568          0.598339\n",
      "5041  FIN1014569          0.629998\n",
      "5042  FIN1014570          0.546391\n",
      "5043  FIN1014571          0.381463\n",
      "5044  FIN1014572          0.453772\n"
     ]
    }
   ],
   "source": [
    "from sklearn.ensemble import RandomForestClassifier\n",
    "\n",
    "dt_model = RandomForestClassifier(class_weight='balanced', max_depth=15, max_leaf_nodes=92,\n",
    "                       min_samples_split=77, n_estimators=500, random_state=10)\n",
    "                       \n",
    "\n",
    "from sklearn.metrics import f1_score,roc_auc_score\n",
    "# fitting the model\n",
    "dt_model.fit(x_train, y_train)\n",
    "\n",
    "# make training prediction\n",
    "train_yhat = dt_model.predict(x_train)\n",
    "train_score = roc_auc_score(y_train, train_yhat)\n",
    "\n",
    "# make test prediction\n",
    "test_yhat = dt_model.predict(x_test)\n",
    "test_score = roc_auc_score(y_test, test_yhat)\n",
    "\n",
    "print(train_score)\n",
    "print(test_score)\n",
    "\n",
    "\n",
    "test_copy_data['Business_Sourced']=dt_model.predict_proba(test_copy_data[predictors])[:, 1]\n",
    "test_copy_data['ID']=test_data['ID']\n",
    "\n",
    "Random_Forest_13 = test_copy_data[['ID','Business_Sourced']]\n",
    "\n",
    "print(Random_Forest_13.head())\n",
    "print(Random_Forest_13.tail())\n",
    "\n",
    "Random_Forest_13.to_csv('C:\\\\Users\\\\ashi.goel\\\\Downloads\\\\Capestone Project\\\\Random_Forest_13.csv',index=False)\n"
   ]
  },
  {
   "cell_type": "code",
   "execution_count": 113,
   "id": "49f7ebf1",
   "metadata": {},
   "outputs": [
    {
     "name": "stdout",
     "output_type": "stream",
     "text": [
      "Fitting 3 folds for each of 300 candidates, totalling 900 fits\n"
     ]
    },
    {
     "data": {
      "text/plain": [
       "RandomizedSearchCV(cv=3,\n",
       "                   estimator=RandomForestClassifier(class_weight='balanced',\n",
       "                                                    random_state=10),\n",
       "                   n_iter=300,\n",
       "                   param_distributions={'criterion': ['gini', 'entropy'],\n",
       "                                        'max_depth': [5, 10, 11, 15],\n",
       "                                        'max_features': ['auto', 'log2'],\n",
       "                                        'max_leaf_nodes': [2, 7, 12, 17, 22, 27,\n",
       "                                                           32, 37, 42, 47, 52,\n",
       "                                                           57, 62, 67, 72, 77,\n",
       "                                                           82, 87, 92, 97],\n",
       "                                        'min_samples_split': [2, 7, 12, 17, 22,\n",
       "                                                              27, 32, 37, 42,\n",
       "                                                              47, 52, 57, 62,\n",
       "                                                              67, 72, 77, 82,\n",
       "                                                              87, 92, 97],\n",
       "                                        'n_estimators': [100, 200, 300, 500]},\n",
       "                   scoring='roc_auc', verbose=1)"
      ]
     },
     "execution_count": 113,
     "metadata": {},
     "output_type": "execute_result"
    }
   ],
   "source": [
    "from sklearn.model_selection import GridSearchCV,RandomizedSearchCV\n",
    "params = {'criterion' :['gini', 'entropy'], 'max_depth': [5, 10,11, 15], 'max_leaf_nodes': list(range(2, 100, 5)), 'min_samples_split': list(range(2, 100, 5)),\n",
    "         'n_estimators':[100,200,300,500],'max_features':['auto','log2']}\n",
    "\n",
    "random_search_cv = RandomizedSearchCV(RandomForestClassifier(random_state=10,class_weight = 'balanced'), params,n_iter=300, verbose=1, cv=3, scoring = 'roc_auc')\n",
    "random_search_cv.fit(x_train, y_train)"
   ]
  },
  {
   "cell_type": "code",
   "execution_count": 114,
   "id": "2287a909",
   "metadata": {},
   "outputs": [
    {
     "data": {
      "text/plain": [
       "RandomForestClassifier(class_weight='balanced', max_depth=15, max_leaf_nodes=92,\n",
       "                       min_samples_split=77, n_estimators=500, random_state=10)"
      ]
     },
     "execution_count": 114,
     "metadata": {},
     "output_type": "execute_result"
    }
   ],
   "source": [
    " random_search_cv.best_estimator_"
   ]
  },
  {
   "cell_type": "markdown",
   "id": "113af84a",
   "metadata": {},
   "source": [
    "# Decision Tree"
   ]
  },
  {
   "cell_type": "code",
   "execution_count": 116,
   "id": "6617b174",
   "metadata": {},
   "outputs": [
    {
     "data": {
      "text/plain": [
       "(0.620394769539651, 0.5698157537124863)"
      ]
     },
     "execution_count": 116,
     "metadata": {},
     "output_type": "execute_result"
    }
   ],
   "source": [
    "from sklearn.tree import DecisionTreeClassifier\n",
    "from sklearn.metrics import recall_score,roc_auc_score\n",
    "\n",
    "dt_model = DecisionTreeClassifier(class_weight='balanced', criterion='entropy',\n",
    "                       max_depth=10, max_leaf_nodes=42, min_samples_split=67,\n",
    "                       random_state=10)\n",
    "# fitting the model\n",
    "dt_model.fit(x_train, y_train)\n",
    "\n",
    "# make training prediction\n",
    "train_yhat = dt_model.predict(x_train)\n",
    "train_score = roc_auc_score(y_train, train_yhat)\n",
    "\n",
    "# make test prediction\n",
    "test_yhat = dt_model.predict(x_test)\n",
    "test_score = roc_auc_score(y_test, test_yhat)\n",
    "\n",
    "train_score, test_score\n",
    "\n"
   ]
  },
  {
   "cell_type": "code",
   "execution_count": 404,
   "id": "7312d983",
   "metadata": {},
   "outputs": [
    {
     "name": "stdout",
     "output_type": "stream",
     "text": [
      "Fitting 3 folds for each of 300 candidates, totalling 900 fits\n"
     ]
    },
    {
     "data": {
      "text/plain": [
       "RandomizedSearchCV(cv=3,\n",
       "                   estimator=DecisionTreeClassifier(class_weight='balanced',\n",
       "                                                    random_state=10),\n",
       "                   n_iter=300,\n",
       "                   param_distributions={'criterion': ['gini', 'entropy'],\n",
       "                                        'max_depth': [5, 10, 11, 15],\n",
       "                                        'max_leaf_nodes': [2, 7, 12, 17, 22, 27,\n",
       "                                                           32, 37, 42, 47, 52,\n",
       "                                                           57, 62, 67, 72, 77,\n",
       "                                                           82, 87, 92, 97],\n",
       "                                        'min_samples_split': [2, 7, 12, 17, 22,\n",
       "                                                              27, 32, 37, 42,\n",
       "                                                              47, 52, 57, 62,\n",
       "                                                              67, 72, 77, 82,\n",
       "                                                              87, 92, 97]},\n",
       "                   scoring='roc_auc', verbose=1)"
      ]
     },
     "execution_count": 404,
     "metadata": {},
     "output_type": "execute_result"
    }
   ],
   "source": [
    "from sklearn.model_selection import GridSearchCV,RandomizedSearchCV\n",
    "params = {'criterion' :['gini', 'entropy'], 'max_depth': [5, 10,11, 15], 'max_leaf_nodes': list(range(2, 100, 5)), 'min_samples_split': list(range(2, 100, 5))}\n",
    "\n",
    "random_search_cv = RandomizedSearchCV(DecisionTreeClassifier(random_state=10,class_weight = 'balanced'), params,n_iter=300, verbose=1, cv=3, scoring = 'roc_auc')\n",
    "random_search_cv.fit(x_train, y_train)"
   ]
  },
  {
   "cell_type": "code",
   "execution_count": 405,
   "id": "93177292",
   "metadata": {
    "scrolled": false
   },
   "outputs": [
    {
     "data": {
      "text/plain": [
       "DecisionTreeClassifier(class_weight='balanced', criterion='entropy',\n",
       "                       max_depth=10, max_leaf_nodes=42, min_samples_split=67,\n",
       "                       random_state=10)"
      ]
     },
     "execution_count": 405,
     "metadata": {},
     "output_type": "execute_result"
    }
   ],
   "source": [
    "random_search_cv.best_estimator_"
   ]
  },
  {
   "cell_type": "markdown",
   "id": "3ab65c48",
   "metadata": {},
   "source": [
    "# XG Boost"
   ]
  },
  {
   "cell_type": "code",
   "execution_count": 122,
   "id": "39a63096",
   "metadata": {},
   "outputs": [
    {
     "name": "stdout",
     "output_type": "stream",
     "text": [
      "[21:58:09] WARNING: C:/Users/Administrator/workspace/xgboost-win64_release_1.4.0/src/learner.cc:1095: Starting in XGBoost 1.3.0, the default evaluation metric used with the objective 'binary:logistic' was changed from 'error' to 'logloss'. Explicitly set eval_metric if you'd like to restore the old behavior.\n",
      "           ID  Business_Sourced\n",
      "0  FIN1009528          0.479276\n",
      "1  FIN1009529          0.474715\n",
      "2  FIN1009530          0.496181\n",
      "3  FIN1009531          0.493902\n",
      "4  FIN1009532          0.477629\n",
      "              ID  Business_Sourced\n",
      "5040  FIN1014568          0.491404\n",
      "5041  FIN1014569          0.502633\n",
      "5042  FIN1014570          0.493437\n",
      "5043  FIN1014571          0.471326\n",
      "5044  FIN1014572          0.492725\n"
     ]
    }
   ],
   "source": [
    "import xgboost as xgb\n",
    "\n",
    "from sklearn.metrics import recall_score,roc_auc_score\n",
    "model = xgb.XGBRFClassifier(base_score=0.5, booster='gbtree', colsample_bylevel=1,\n",
    "                colsample_bytree=1, gamma=0, gpu_id=-1, importance_type='gain',\n",
    "                learning_rate=0.1, max_delta_step=0,\n",
    "                max_depth=30, min_child_weight=1,\n",
    "                monotone_constraints='()', n_estimators=200, n_jobs=8,\n",
    "                num_parallel_tree=200, objective='binary:logistic',\n",
    "                random_state=0, reg_alpha=1, reg_lambda=0, scale_pos_weight=1,\n",
    "                tree_method='exact', validate_parameters=1, verbosity=None)\n",
    "\n",
    "model.fit(x_train, y_train)\n",
    "\n",
    "# make training prediction\n",
    "train_yhat = model.predict(x_train)\n",
    "train_score = roc_auc_score(y_train, train_yhat)\n",
    "\n",
    "# make test prediction\n",
    "test_yhat = model.predict(x_test)\n",
    "test_score = roc_auc_score(y_test, test_yhat)\n",
    "\n",
    "train_score, test_score\n",
    "\n",
    "test_copy_data['Business_Sourced']=model.predict_proba(test_copy_data[predictors])[:, 1]\n",
    "test_copy_data['ID']=test_data['ID']\n",
    "\n",
    "xg_boost_1 = test_copy_data[['ID','Business_Sourced']]\n",
    "\n",
    "print(xg_boost_1.head())\n",
    "print(xg_boost_1.tail())\n",
    "\n",
    "xg_boost_1.to_csv('C:\\\\Users\\\\ashi.goel\\\\Downloads\\\\Capestone Project\\\\xg_boost_1.csv',index=False)\n"
   ]
  },
  {
   "cell_type": "code",
   "execution_count": 413,
   "id": "b5807f9d",
   "metadata": {
    "scrolled": false
   },
   "outputs": [
    {
     "name": "stdout",
     "output_type": "stream",
     "text": [
      "Fitting 3 folds for each of 30 candidates, totalling 90 fits\n",
      "[14:48:46] WARNING: C:/Users/Administrator/workspace/xgboost-win64_release_1.4.0/src/learner.cc:1095: Starting in XGBoost 1.3.0, the default evaluation metric used with the objective 'binary:logistic' was changed from 'error' to 'logloss'. Explicitly set eval_metric if you'd like to restore the old behavior.\n"
     ]
    },
    {
     "data": {
      "text/plain": [
       "XGBRFClassifier(base_score=0.5, booster='gbtree', colsample_bylevel=1,\n",
       "                colsample_bytree=1, gamma=0, gpu_id=-1, importance_type='gain',\n",
       "                interaction_constraints='', learning_rate=0.1, max_delta_step=0,\n",
       "                max_depth=30, min_child_weight=1, missing=nan,\n",
       "                monotone_constraints='()', n_estimators=200, n_jobs=8,\n",
       "                num_parallel_tree=200, objective='binary:logistic',\n",
       "                random_state=0, reg_alpha=1, reg_lambda=0, scale_pos_weight=1,\n",
       "                tree_method='exact', validate_parameters=1, verbosity=None)"
      ]
     },
     "execution_count": 413,
     "metadata": {},
     "output_type": "execute_result"
    }
   ],
   "source": [
    "from sklearn.model_selection import GridSearchCV, RandomizedSearchCV\n",
    "\n",
    "param_dist = {\"max_depth\": [5, 10, 15, 30, 50],\n",
    "              \"n_estimators\": [100, 200, 300],\n",
    "              \"learning_rate\": [0.05, 0.1, 0.15, 0.2, 0.3],\n",
    "             'reg_alpha':[0,0.001,0.1,1,10],\n",
    "             'reg_lambda':[0,0.001,0.1,1,10]}\n",
    "\n",
    "grid_search = RandomizedSearchCV(model, param_dist, cv = 3, n_iter = 30,  \n",
    "                                   verbose=10, n_jobs=-1, scoring = \"roc_auc\")\n",
    "\n",
    "grid_search.fit(x_train, y_train)\n",
    "\n",
    "grid_search.best_estimator_"
   ]
  },
  {
   "cell_type": "markdown",
   "id": "15fcddbe",
   "metadata": {},
   "source": [
    "# LGBM\n"
   ]
  },
  {
   "cell_type": "code",
   "execution_count": 123,
   "id": "06d37bd2",
   "metadata": {},
   "outputs": [
    {
     "name": "stdout",
     "output_type": "stream",
     "text": [
      "Collecting lightgbm\n",
      "  Downloading lightgbm-3.2.1-py3-none-win_amd64.whl (1.0 MB)\n",
      "Requirement already satisfied: numpy in c:\\anaconda\\lib\\site-packages (from lightgbm) (1.20.1)\n",
      "Requirement already satisfied: scipy in c:\\anaconda\\lib\\site-packages (from lightgbm) (1.6.2)\n",
      "Requirement already satisfied: scikit-learn!=0.22.0 in c:\\anaconda\\lib\\site-packages (from lightgbm) (0.24.1)\n",
      "Requirement already satisfied: wheel in c:\\anaconda\\lib\\site-packages (from lightgbm) (0.36.2)\n",
      "Requirement already satisfied: threadpoolctl>=2.0.0 in c:\\anaconda\\lib\\site-packages (from scikit-learn!=0.22.0->lightgbm) (2.1.0)\n",
      "Requirement already satisfied: joblib>=0.11 in c:\\anaconda\\lib\\site-packages (from scikit-learn!=0.22.0->lightgbm) (1.0.1)\n",
      "Installing collected packages: lightgbm\n",
      "Successfully installed lightgbm-3.2.1\n",
      "Note: you may need to restart the kernel to use updated packages.\n"
     ]
    }
   ],
   "source": [
    "pip install lightgbm"
   ]
  },
  {
   "cell_type": "code",
   "execution_count": 129,
   "id": "00b05d2a",
   "metadata": {},
   "outputs": [
    {
     "name": "stdout",
     "output_type": "stream",
     "text": [
      "           ID  Business_Sourced\n",
      "0  FIN1009528          0.238222\n",
      "1  FIN1009529          0.335359\n",
      "2  FIN1009530          0.268759\n",
      "3  FIN1009531          0.342256\n",
      "4  FIN1009532          0.308130\n",
      "              ID  Business_Sourced\n",
      "5040  FIN1014568          0.480713\n",
      "5041  FIN1014569          0.639279\n",
      "5042  FIN1014570          0.376881\n",
      "5043  FIN1014571          0.156416\n",
      "5044  FIN1014572          0.300580\n"
     ]
    }
   ],
   "source": [
    "from lightgbm import LGBMClassifier\n",
    "\n",
    " \n",
    "\n",
    "model = LGBMClassifier( num_leaves=31, max_depth=- 1, learning_rate=0.1, n_estimators=100, subsample_for_bin=200000,boosting_type='gbdt')\n",
    "model.fit(x_train, y_train)\n",
    "\n",
    " \n",
    "\n",
    "# make training prediction\n",
    "train_yhat = model.predict(x_train)\n",
    "train_score = roc_auc_score(y_train, train_yhat)\n",
    "\n",
    " \n",
    "\n",
    "# make test prediction\n",
    "test_yhat = model.predict(x_test)\n",
    "test_score = roc_auc_score(y_test, test_yhat)\n",
    "\n",
    " \n",
    "\n",
    "train_score, test_score\n",
    "\n",
    "test_copy_data['Business_Sourced']=model.predict_proba(test_copy_data[predictors])[:, 1]\n",
    "test_copy_data['ID']=test_data['ID']\n",
    "\n",
    "LGBM_file_1 = test_copy_data[['ID','Business_Sourced']]\n",
    "\n",
    "print(LGBM_file_1.head())\n",
    "print(LGBM_file_1.tail())\n",
    "\n",
    "LGBM_file_1.to_csv('C:\\\\Users\\\\ashi.goel\\\\Downloads\\\\Capestone Project\\\\LGBM_file_1.csv',index=False)\n"
   ]
  }
 ],
 "metadata": {
  "kernelspec": {
   "display_name": "Python 3",
   "language": "python",
   "name": "python3"
  },
  "language_info": {
   "codemirror_mode": {
    "name": "ipython",
    "version": 3
   },
   "file_extension": ".py",
   "mimetype": "text/x-python",
   "name": "python",
   "nbconvert_exporter": "python",
   "pygments_lexer": "ipython3",
   "version": "3.8.8"
  }
 },
 "nbformat": 4,
 "nbformat_minor": 5
}
